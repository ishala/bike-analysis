{
  "cells": [
    {
      "cell_type": "markdown",
      "metadata": {
        "id": "H9wADwK78DCz"
      },
      "source": [
        "# Proyek Analisis Data: Bike Sharing Dataset\n",
        "- **Nama:** Muhammad Faishal Ali Dhiaulhaq\n",
        "- **Email:** faishalald22@gmail.com\n",
        "- **ID Dicoding:**"
      ]
    },
    {
      "cell_type": "markdown",
      "metadata": {
        "id": "eE0raob58DC0"
      },
      "source": [
        "# Menentukan Pertanyaan Bisnis"
      ]
    },
    {
      "cell_type": "markdown",
      "metadata": {
        "id": "GmQeQ5YF8DC0"
      },
      "source": [
        "- Pertanyaan 1\n",
        "> Berapa rata-rata peminjam sepeda baik dari kategori pelanggan kasual maupun terdaftar dalam rentang 2 tahun (2011-2012) per bulan?\n",
        "- Pertanyaan 2\n",
        "> Faktor apa saja yang memengaruhi banyak peminjam? Serta jelaskan!"
      ]
    },
    {
      "cell_type": "markdown",
      "metadata": {
        "id": "H-z4QGlO8DC1"
      },
      "source": [
        "# Import Semua Packages/Library yang Digunakan"
      ]
    },
    {
      "cell_type": "code",
      "execution_count": 4,
      "metadata": {
        "id": "FVYwaObI8DC1"
      },
      "outputs": [],
      "source": [
        "import pandas as pd\n",
        "import numpy as np\n",
        "import matplotlib.pyplot as plt\n",
        "import seaborn as sns\n",
        "import re\n",
        "from sklearn.cluster import KMeans\n",
        "from sklearn.preprocessing import LabelEncoder, StandardScaler"
      ]
    },
    {
      "cell_type": "markdown",
      "metadata": {
        "id": "h_Sh51Xy8DC1"
      },
      "source": [
        "# Data Wrangling"
      ]
    },
    {
      "cell_type": "markdown",
      "metadata": {
        "id": "sXU2GBYu8DC1"
      },
      "source": [
        "## Gathering Data"
      ]
    },
    {
      "cell_type": "markdown",
      "metadata": {
        "id": "nXY346Fu_QyM"
      },
      "source": [
        "### 1. Melakukan import dataset "
      ]
    },
    {
      "cell_type": "code",
      "execution_count": 5,
      "metadata": {},
      "outputs": [],
      "source": [
        "days = 'data/day.csv'\n",
        "hours = 'data/hour.csv'"
      ]
    },
    {
      "cell_type": "markdown",
      "metadata": {
        "id": "yRJ2CVdx_scC"
      },
      "source": [
        "### 2. Membaca CSV menjadi dataframe"
      ]
    },
    {
      "cell_type": "code",
      "execution_count": 6,
      "metadata": {
        "id": "baCh_AAr_xhs"
      },
      "outputs": [],
      "source": [
        "#dataframe per hari dalam tahun\n",
        "daysDf = pd.read_csv(days)\n",
        "#dataframe per jam dalam hari\n",
        "hoursDf = pd.read_csv(hours)"
      ]
    },
    {
      "cell_type": "markdown",
      "metadata": {
        "id": "jM35CQLcBORf"
      },
      "source": [
        "### 3. Preview Dataframe pada 5 data pertama"
      ]
    },
    {
      "cell_type": "code",
      "execution_count": 7,
      "metadata": {
        "colab": {
          "base_uri": "https://localhost:8080/",
          "height": 206
        },
        "id": "dndcnBS2BYF2",
        "outputId": "9b2beda3-ffd9-4a4d-93dd-c4e6d7d0b751"
      },
      "outputs": [
        {
          "data": {
            "text/html": [
              "<div>\n",
              "<style scoped>\n",
              "    .dataframe tbody tr th:only-of-type {\n",
              "        vertical-align: middle;\n",
              "    }\n",
              "\n",
              "    .dataframe tbody tr th {\n",
              "        vertical-align: top;\n",
              "    }\n",
              "\n",
              "    .dataframe thead th {\n",
              "        text-align: right;\n",
              "    }\n",
              "</style>\n",
              "<table border=\"1\" class=\"dataframe\">\n",
              "  <thead>\n",
              "    <tr style=\"text-align: right;\">\n",
              "      <th></th>\n",
              "      <th>instant</th>\n",
              "      <th>dteday</th>\n",
              "      <th>season</th>\n",
              "      <th>yr</th>\n",
              "      <th>mnth</th>\n",
              "      <th>holiday</th>\n",
              "      <th>weekday</th>\n",
              "      <th>workingday</th>\n",
              "      <th>weathersit</th>\n",
              "      <th>temp</th>\n",
              "      <th>atemp</th>\n",
              "      <th>hum</th>\n",
              "      <th>windspeed</th>\n",
              "      <th>casual</th>\n",
              "      <th>registered</th>\n",
              "      <th>cnt</th>\n",
              "    </tr>\n",
              "  </thead>\n",
              "  <tbody>\n",
              "    <tr>\n",
              "      <th>0</th>\n",
              "      <td>1</td>\n",
              "      <td>2011-01-01</td>\n",
              "      <td>1</td>\n",
              "      <td>0</td>\n",
              "      <td>1</td>\n",
              "      <td>0</td>\n",
              "      <td>6</td>\n",
              "      <td>0</td>\n",
              "      <td>2</td>\n",
              "      <td>0.344167</td>\n",
              "      <td>0.363625</td>\n",
              "      <td>0.805833</td>\n",
              "      <td>0.160446</td>\n",
              "      <td>331</td>\n",
              "      <td>654</td>\n",
              "      <td>985</td>\n",
              "    </tr>\n",
              "    <tr>\n",
              "      <th>1</th>\n",
              "      <td>2</td>\n",
              "      <td>2011-01-02</td>\n",
              "      <td>1</td>\n",
              "      <td>0</td>\n",
              "      <td>1</td>\n",
              "      <td>0</td>\n",
              "      <td>0</td>\n",
              "      <td>0</td>\n",
              "      <td>2</td>\n",
              "      <td>0.363478</td>\n",
              "      <td>0.353739</td>\n",
              "      <td>0.696087</td>\n",
              "      <td>0.248539</td>\n",
              "      <td>131</td>\n",
              "      <td>670</td>\n",
              "      <td>801</td>\n",
              "    </tr>\n",
              "    <tr>\n",
              "      <th>2</th>\n",
              "      <td>3</td>\n",
              "      <td>2011-01-03</td>\n",
              "      <td>1</td>\n",
              "      <td>0</td>\n",
              "      <td>1</td>\n",
              "      <td>0</td>\n",
              "      <td>1</td>\n",
              "      <td>1</td>\n",
              "      <td>1</td>\n",
              "      <td>0.196364</td>\n",
              "      <td>0.189405</td>\n",
              "      <td>0.437273</td>\n",
              "      <td>0.248309</td>\n",
              "      <td>120</td>\n",
              "      <td>1229</td>\n",
              "      <td>1349</td>\n",
              "    </tr>\n",
              "    <tr>\n",
              "      <th>3</th>\n",
              "      <td>4</td>\n",
              "      <td>2011-01-04</td>\n",
              "      <td>1</td>\n",
              "      <td>0</td>\n",
              "      <td>1</td>\n",
              "      <td>0</td>\n",
              "      <td>2</td>\n",
              "      <td>1</td>\n",
              "      <td>1</td>\n",
              "      <td>0.200000</td>\n",
              "      <td>0.212122</td>\n",
              "      <td>0.590435</td>\n",
              "      <td>0.160296</td>\n",
              "      <td>108</td>\n",
              "      <td>1454</td>\n",
              "      <td>1562</td>\n",
              "    </tr>\n",
              "    <tr>\n",
              "      <th>4</th>\n",
              "      <td>5</td>\n",
              "      <td>2011-01-05</td>\n",
              "      <td>1</td>\n",
              "      <td>0</td>\n",
              "      <td>1</td>\n",
              "      <td>0</td>\n",
              "      <td>3</td>\n",
              "      <td>1</td>\n",
              "      <td>1</td>\n",
              "      <td>0.226957</td>\n",
              "      <td>0.229270</td>\n",
              "      <td>0.436957</td>\n",
              "      <td>0.186900</td>\n",
              "      <td>82</td>\n",
              "      <td>1518</td>\n",
              "      <td>1600</td>\n",
              "    </tr>\n",
              "  </tbody>\n",
              "</table>\n",
              "</div>"
            ],
            "text/plain": [
              "   instant      dteday  season  yr  mnth  holiday  weekday  workingday  \\\n",
              "0        1  2011-01-01       1   0     1        0        6           0   \n",
              "1        2  2011-01-02       1   0     1        0        0           0   \n",
              "2        3  2011-01-03       1   0     1        0        1           1   \n",
              "3        4  2011-01-04       1   0     1        0        2           1   \n",
              "4        5  2011-01-05       1   0     1        0        3           1   \n",
              "\n",
              "   weathersit      temp     atemp       hum  windspeed  casual  registered  \\\n",
              "0           2  0.344167  0.363625  0.805833   0.160446     331         654   \n",
              "1           2  0.363478  0.353739  0.696087   0.248539     131         670   \n",
              "2           1  0.196364  0.189405  0.437273   0.248309     120        1229   \n",
              "3           1  0.200000  0.212122  0.590435   0.160296     108        1454   \n",
              "4           1  0.226957  0.229270  0.436957   0.186900      82        1518   \n",
              "\n",
              "    cnt  \n",
              "0   985  \n",
              "1   801  \n",
              "2  1349  \n",
              "3  1562  \n",
              "4  1600  "
            ]
          },
          "execution_count": 7,
          "metadata": {},
          "output_type": "execute_result"
        }
      ],
      "source": [
        "#dataframe per hari dalam tahun\n",
        "daysDf.head()"
      ]
    },
    {
      "cell_type": "code",
      "execution_count": 8,
      "metadata": {
        "colab": {
          "base_uri": "https://localhost:8080/",
          "height": 206
        },
        "id": "QlbqMI5gBehR",
        "outputId": "55d7987b-17fe-446e-e63a-d9952c8f7858"
      },
      "outputs": [
        {
          "data": {
            "text/html": [
              "<div>\n",
              "<style scoped>\n",
              "    .dataframe tbody tr th:only-of-type {\n",
              "        vertical-align: middle;\n",
              "    }\n",
              "\n",
              "    .dataframe tbody tr th {\n",
              "        vertical-align: top;\n",
              "    }\n",
              "\n",
              "    .dataframe thead th {\n",
              "        text-align: right;\n",
              "    }\n",
              "</style>\n",
              "<table border=\"1\" class=\"dataframe\">\n",
              "  <thead>\n",
              "    <tr style=\"text-align: right;\">\n",
              "      <th></th>\n",
              "      <th>instant</th>\n",
              "      <th>dteday</th>\n",
              "      <th>season</th>\n",
              "      <th>yr</th>\n",
              "      <th>mnth</th>\n",
              "      <th>hr</th>\n",
              "      <th>holiday</th>\n",
              "      <th>weekday</th>\n",
              "      <th>workingday</th>\n",
              "      <th>weathersit</th>\n",
              "      <th>temp</th>\n",
              "      <th>atemp</th>\n",
              "      <th>hum</th>\n",
              "      <th>windspeed</th>\n",
              "      <th>casual</th>\n",
              "      <th>registered</th>\n",
              "      <th>cnt</th>\n",
              "    </tr>\n",
              "  </thead>\n",
              "  <tbody>\n",
              "    <tr>\n",
              "      <th>0</th>\n",
              "      <td>1</td>\n",
              "      <td>2011-01-01</td>\n",
              "      <td>1</td>\n",
              "      <td>0</td>\n",
              "      <td>1</td>\n",
              "      <td>0</td>\n",
              "      <td>0</td>\n",
              "      <td>6</td>\n",
              "      <td>0</td>\n",
              "      <td>1</td>\n",
              "      <td>0.24</td>\n",
              "      <td>0.2879</td>\n",
              "      <td>0.81</td>\n",
              "      <td>0.0</td>\n",
              "      <td>3</td>\n",
              "      <td>13</td>\n",
              "      <td>16</td>\n",
              "    </tr>\n",
              "    <tr>\n",
              "      <th>1</th>\n",
              "      <td>2</td>\n",
              "      <td>2011-01-01</td>\n",
              "      <td>1</td>\n",
              "      <td>0</td>\n",
              "      <td>1</td>\n",
              "      <td>1</td>\n",
              "      <td>0</td>\n",
              "      <td>6</td>\n",
              "      <td>0</td>\n",
              "      <td>1</td>\n",
              "      <td>0.22</td>\n",
              "      <td>0.2727</td>\n",
              "      <td>0.80</td>\n",
              "      <td>0.0</td>\n",
              "      <td>8</td>\n",
              "      <td>32</td>\n",
              "      <td>40</td>\n",
              "    </tr>\n",
              "    <tr>\n",
              "      <th>2</th>\n",
              "      <td>3</td>\n",
              "      <td>2011-01-01</td>\n",
              "      <td>1</td>\n",
              "      <td>0</td>\n",
              "      <td>1</td>\n",
              "      <td>2</td>\n",
              "      <td>0</td>\n",
              "      <td>6</td>\n",
              "      <td>0</td>\n",
              "      <td>1</td>\n",
              "      <td>0.22</td>\n",
              "      <td>0.2727</td>\n",
              "      <td>0.80</td>\n",
              "      <td>0.0</td>\n",
              "      <td>5</td>\n",
              "      <td>27</td>\n",
              "      <td>32</td>\n",
              "    </tr>\n",
              "    <tr>\n",
              "      <th>3</th>\n",
              "      <td>4</td>\n",
              "      <td>2011-01-01</td>\n",
              "      <td>1</td>\n",
              "      <td>0</td>\n",
              "      <td>1</td>\n",
              "      <td>3</td>\n",
              "      <td>0</td>\n",
              "      <td>6</td>\n",
              "      <td>0</td>\n",
              "      <td>1</td>\n",
              "      <td>0.24</td>\n",
              "      <td>0.2879</td>\n",
              "      <td>0.75</td>\n",
              "      <td>0.0</td>\n",
              "      <td>3</td>\n",
              "      <td>10</td>\n",
              "      <td>13</td>\n",
              "    </tr>\n",
              "    <tr>\n",
              "      <th>4</th>\n",
              "      <td>5</td>\n",
              "      <td>2011-01-01</td>\n",
              "      <td>1</td>\n",
              "      <td>0</td>\n",
              "      <td>1</td>\n",
              "      <td>4</td>\n",
              "      <td>0</td>\n",
              "      <td>6</td>\n",
              "      <td>0</td>\n",
              "      <td>1</td>\n",
              "      <td>0.24</td>\n",
              "      <td>0.2879</td>\n",
              "      <td>0.75</td>\n",
              "      <td>0.0</td>\n",
              "      <td>0</td>\n",
              "      <td>1</td>\n",
              "      <td>1</td>\n",
              "    </tr>\n",
              "  </tbody>\n",
              "</table>\n",
              "</div>"
            ],
            "text/plain": [
              "   instant      dteday  season  yr  mnth  hr  holiday  weekday  workingday  \\\n",
              "0        1  2011-01-01       1   0     1   0        0        6           0   \n",
              "1        2  2011-01-01       1   0     1   1        0        6           0   \n",
              "2        3  2011-01-01       1   0     1   2        0        6           0   \n",
              "3        4  2011-01-01       1   0     1   3        0        6           0   \n",
              "4        5  2011-01-01       1   0     1   4        0        6           0   \n",
              "\n",
              "   weathersit  temp   atemp   hum  windspeed  casual  registered  cnt  \n",
              "0           1  0.24  0.2879  0.81        0.0       3          13   16  \n",
              "1           1  0.22  0.2727  0.80        0.0       8          32   40  \n",
              "2           1  0.22  0.2727  0.80        0.0       5          27   32  \n",
              "3           1  0.24  0.2879  0.75        0.0       3          10   13  \n",
              "4           1  0.24  0.2879  0.75        0.0       0           1    1  "
            ]
          },
          "execution_count": 8,
          "metadata": {},
          "output_type": "execute_result"
        }
      ],
      "source": [
        "#dataframe per jam dalam hari\n",
        "hoursDf.head()"
      ]
    },
    {
      "cell_type": "markdown",
      "metadata": {
        "id": "FHSiqaZp8DC1"
      },
      "source": [
        "## Assessing Data"
      ]
    },
    {
      "cell_type": "markdown",
      "metadata": {
        "id": "wyZ_UVBgCXkG"
      },
      "source": [
        "### A. Penilaian pada Dataframe Days"
      ]
    },
    {
      "cell_type": "code",
      "execution_count": 9,
      "metadata": {
        "colab": {
          "base_uri": "https://localhost:8080/"
        },
        "id": "8ddnOjepD5Y_",
        "outputId": "7676518f-8b0b-471a-ca9d-2b68005a9d26"
      },
      "outputs": [
        {
          "data": {
            "text/plain": [
              "(731, 16)"
            ]
          },
          "execution_count": 9,
          "metadata": {},
          "output_type": "execute_result"
        }
      ],
      "source": [
        "#Cek total banyak baris data\n",
        "daysDf.shape"
      ]
    },
    {
      "cell_type": "code",
      "execution_count": 10,
      "metadata": {
        "colab": {
          "base_uri": "https://localhost:8080/"
        },
        "id": "ax-3tEjc9Cj1",
        "outputId": "152b19bf-3bb4-4ca2-cb3d-43e06fefbebf"
      },
      "outputs": [
        {
          "name": "stdout",
          "output_type": "stream",
          "text": [
            "<class 'pandas.core.frame.DataFrame'>\n",
            "RangeIndex: 731 entries, 0 to 730\n",
            "Data columns (total 16 columns):\n",
            " #   Column      Non-Null Count  Dtype  \n",
            "---  ------      --------------  -----  \n",
            " 0   instant     731 non-null    int64  \n",
            " 1   dteday      731 non-null    object \n",
            " 2   season      731 non-null    int64  \n",
            " 3   yr          731 non-null    int64  \n",
            " 4   mnth        731 non-null    int64  \n",
            " 5   holiday     731 non-null    int64  \n",
            " 6   weekday     731 non-null    int64  \n",
            " 7   workingday  731 non-null    int64  \n",
            " 8   weathersit  731 non-null    int64  \n",
            " 9   temp        731 non-null    float64\n",
            " 10  atemp       731 non-null    float64\n",
            " 11  hum         731 non-null    float64\n",
            " 12  windspeed   731 non-null    float64\n",
            " 13  casual      731 non-null    int64  \n",
            " 14  registered  731 non-null    int64  \n",
            " 15  cnt         731 non-null    int64  \n",
            "dtypes: float64(4), int64(11), object(1)\n",
            "memory usage: 91.5+ KB\n"
          ]
        }
      ],
      "source": [
        "#Informasi Dasar\n",
        "daysDf.info()"
      ]
    },
    {
      "cell_type": "markdown",
      "metadata": {
        "id": "xEn61awmDH1U"
      },
      "source": [
        "###Cek Data Null"
      ]
    },
    {
      "cell_type": "code",
      "execution_count": 11,
      "metadata": {
        "colab": {
          "base_uri": "https://localhost:8080/"
        },
        "id": "WyQpW7RRHsIn",
        "outputId": "c57811c5-90a5-4096-f1e6-8c1918ce1127"
      },
      "outputs": [
        {
          "data": {
            "text/plain": [
              "instant       0\n",
              "dteday        0\n",
              "season        0\n",
              "yr            0\n",
              "mnth          0\n",
              "holiday       0\n",
              "weekday       0\n",
              "workingday    0\n",
              "weathersit    0\n",
              "temp          0\n",
              "atemp         0\n",
              "hum           0\n",
              "windspeed     0\n",
              "casual        0\n",
              "registered    0\n",
              "cnt           0\n",
              "dtype: int64"
            ]
          },
          "execution_count": 11,
          "metadata": {},
          "output_type": "execute_result"
        }
      ],
      "source": [
        "#Cek data null\n",
        "daysDf.isna().sum()"
      ]
    },
    {
      "cell_type": "markdown",
      "metadata": {
        "id": "zoshQSs3HzEK"
      },
      "source": [
        "### Cek Data Duplikat"
      ]
    },
    {
      "cell_type": "code",
      "execution_count": 12,
      "metadata": {
        "colab": {
          "base_uri": "https://localhost:8080/"
        },
        "id": "mfPU1INtH91U",
        "outputId": "1ce31108-79ff-4552-96c9-3700dc80e29a"
      },
      "outputs": [
        {
          "data": {
            "text/plain": [
              "0"
            ]
          },
          "execution_count": 12,
          "metadata": {},
          "output_type": "execute_result"
        }
      ],
      "source": [
        "daysDf.duplicated().sum()"
      ]
    },
    {
      "cell_type": "markdown",
      "metadata": {
        "id": "uSZ-HF7WILo_"
      },
      "source": [
        "### Cek Nilai Statistik Awal"
      ]
    },
    {
      "cell_type": "code",
      "execution_count": 13,
      "metadata": {
        "colab": {
          "base_uri": "https://localhost:8080/",
          "height": 320
        },
        "id": "AX-pPtJGIT46",
        "outputId": "b7fe0057-1a7d-488b-dead-70b216bbd2f4"
      },
      "outputs": [
        {
          "data": {
            "text/html": [
              "<div>\n",
              "<style scoped>\n",
              "    .dataframe tbody tr th:only-of-type {\n",
              "        vertical-align: middle;\n",
              "    }\n",
              "\n",
              "    .dataframe tbody tr th {\n",
              "        vertical-align: top;\n",
              "    }\n",
              "\n",
              "    .dataframe thead th {\n",
              "        text-align: right;\n",
              "    }\n",
              "</style>\n",
              "<table border=\"1\" class=\"dataframe\">\n",
              "  <thead>\n",
              "    <tr style=\"text-align: right;\">\n",
              "      <th></th>\n",
              "      <th>instant</th>\n",
              "      <th>season</th>\n",
              "      <th>yr</th>\n",
              "      <th>mnth</th>\n",
              "      <th>holiday</th>\n",
              "      <th>weekday</th>\n",
              "      <th>workingday</th>\n",
              "      <th>weathersit</th>\n",
              "      <th>temp</th>\n",
              "      <th>atemp</th>\n",
              "      <th>hum</th>\n",
              "      <th>windspeed</th>\n",
              "      <th>casual</th>\n",
              "      <th>registered</th>\n",
              "      <th>cnt</th>\n",
              "    </tr>\n",
              "  </thead>\n",
              "  <tbody>\n",
              "    <tr>\n",
              "      <th>count</th>\n",
              "      <td>731.000000</td>\n",
              "      <td>731.000000</td>\n",
              "      <td>731.000000</td>\n",
              "      <td>731.000000</td>\n",
              "      <td>731.000000</td>\n",
              "      <td>731.000000</td>\n",
              "      <td>731.000000</td>\n",
              "      <td>731.000000</td>\n",
              "      <td>731.000000</td>\n",
              "      <td>731.000000</td>\n",
              "      <td>731.000000</td>\n",
              "      <td>731.000000</td>\n",
              "      <td>731.000000</td>\n",
              "      <td>731.000000</td>\n",
              "      <td>731.000000</td>\n",
              "    </tr>\n",
              "    <tr>\n",
              "      <th>mean</th>\n",
              "      <td>366.000000</td>\n",
              "      <td>2.496580</td>\n",
              "      <td>0.500684</td>\n",
              "      <td>6.519836</td>\n",
              "      <td>0.028728</td>\n",
              "      <td>2.997264</td>\n",
              "      <td>0.683995</td>\n",
              "      <td>1.395349</td>\n",
              "      <td>0.495385</td>\n",
              "      <td>0.474354</td>\n",
              "      <td>0.627894</td>\n",
              "      <td>0.190486</td>\n",
              "      <td>848.176471</td>\n",
              "      <td>3656.172367</td>\n",
              "      <td>4504.348837</td>\n",
              "    </tr>\n",
              "    <tr>\n",
              "      <th>std</th>\n",
              "      <td>211.165812</td>\n",
              "      <td>1.110807</td>\n",
              "      <td>0.500342</td>\n",
              "      <td>3.451913</td>\n",
              "      <td>0.167155</td>\n",
              "      <td>2.004787</td>\n",
              "      <td>0.465233</td>\n",
              "      <td>0.544894</td>\n",
              "      <td>0.183051</td>\n",
              "      <td>0.162961</td>\n",
              "      <td>0.142429</td>\n",
              "      <td>0.077498</td>\n",
              "      <td>686.622488</td>\n",
              "      <td>1560.256377</td>\n",
              "      <td>1937.211452</td>\n",
              "    </tr>\n",
              "    <tr>\n",
              "      <th>min</th>\n",
              "      <td>1.000000</td>\n",
              "      <td>1.000000</td>\n",
              "      <td>0.000000</td>\n",
              "      <td>1.000000</td>\n",
              "      <td>0.000000</td>\n",
              "      <td>0.000000</td>\n",
              "      <td>0.000000</td>\n",
              "      <td>1.000000</td>\n",
              "      <td>0.059130</td>\n",
              "      <td>0.079070</td>\n",
              "      <td>0.000000</td>\n",
              "      <td>0.022392</td>\n",
              "      <td>2.000000</td>\n",
              "      <td>20.000000</td>\n",
              "      <td>22.000000</td>\n",
              "    </tr>\n",
              "    <tr>\n",
              "      <th>25%</th>\n",
              "      <td>183.500000</td>\n",
              "      <td>2.000000</td>\n",
              "      <td>0.000000</td>\n",
              "      <td>4.000000</td>\n",
              "      <td>0.000000</td>\n",
              "      <td>1.000000</td>\n",
              "      <td>0.000000</td>\n",
              "      <td>1.000000</td>\n",
              "      <td>0.337083</td>\n",
              "      <td>0.337842</td>\n",
              "      <td>0.520000</td>\n",
              "      <td>0.134950</td>\n",
              "      <td>315.500000</td>\n",
              "      <td>2497.000000</td>\n",
              "      <td>3152.000000</td>\n",
              "    </tr>\n",
              "    <tr>\n",
              "      <th>50%</th>\n",
              "      <td>366.000000</td>\n",
              "      <td>3.000000</td>\n",
              "      <td>1.000000</td>\n",
              "      <td>7.000000</td>\n",
              "      <td>0.000000</td>\n",
              "      <td>3.000000</td>\n",
              "      <td>1.000000</td>\n",
              "      <td>1.000000</td>\n",
              "      <td>0.498333</td>\n",
              "      <td>0.486733</td>\n",
              "      <td>0.626667</td>\n",
              "      <td>0.180975</td>\n",
              "      <td>713.000000</td>\n",
              "      <td>3662.000000</td>\n",
              "      <td>4548.000000</td>\n",
              "    </tr>\n",
              "    <tr>\n",
              "      <th>75%</th>\n",
              "      <td>548.500000</td>\n",
              "      <td>3.000000</td>\n",
              "      <td>1.000000</td>\n",
              "      <td>10.000000</td>\n",
              "      <td>0.000000</td>\n",
              "      <td>5.000000</td>\n",
              "      <td>1.000000</td>\n",
              "      <td>2.000000</td>\n",
              "      <td>0.655417</td>\n",
              "      <td>0.608602</td>\n",
              "      <td>0.730209</td>\n",
              "      <td>0.233214</td>\n",
              "      <td>1096.000000</td>\n",
              "      <td>4776.500000</td>\n",
              "      <td>5956.000000</td>\n",
              "    </tr>\n",
              "    <tr>\n",
              "      <th>max</th>\n",
              "      <td>731.000000</td>\n",
              "      <td>4.000000</td>\n",
              "      <td>1.000000</td>\n",
              "      <td>12.000000</td>\n",
              "      <td>1.000000</td>\n",
              "      <td>6.000000</td>\n",
              "      <td>1.000000</td>\n",
              "      <td>3.000000</td>\n",
              "      <td>0.861667</td>\n",
              "      <td>0.840896</td>\n",
              "      <td>0.972500</td>\n",
              "      <td>0.507463</td>\n",
              "      <td>3410.000000</td>\n",
              "      <td>6946.000000</td>\n",
              "      <td>8714.000000</td>\n",
              "    </tr>\n",
              "  </tbody>\n",
              "</table>\n",
              "</div>"
            ],
            "text/plain": [
              "          instant      season          yr        mnth     holiday     weekday  \\\n",
              "count  731.000000  731.000000  731.000000  731.000000  731.000000  731.000000   \n",
              "mean   366.000000    2.496580    0.500684    6.519836    0.028728    2.997264   \n",
              "std    211.165812    1.110807    0.500342    3.451913    0.167155    2.004787   \n",
              "min      1.000000    1.000000    0.000000    1.000000    0.000000    0.000000   \n",
              "25%    183.500000    2.000000    0.000000    4.000000    0.000000    1.000000   \n",
              "50%    366.000000    3.000000    1.000000    7.000000    0.000000    3.000000   \n",
              "75%    548.500000    3.000000    1.000000   10.000000    0.000000    5.000000   \n",
              "max    731.000000    4.000000    1.000000   12.000000    1.000000    6.000000   \n",
              "\n",
              "       workingday  weathersit        temp       atemp         hum   windspeed  \\\n",
              "count  731.000000  731.000000  731.000000  731.000000  731.000000  731.000000   \n",
              "mean     0.683995    1.395349    0.495385    0.474354    0.627894    0.190486   \n",
              "std      0.465233    0.544894    0.183051    0.162961    0.142429    0.077498   \n",
              "min      0.000000    1.000000    0.059130    0.079070    0.000000    0.022392   \n",
              "25%      0.000000    1.000000    0.337083    0.337842    0.520000    0.134950   \n",
              "50%      1.000000    1.000000    0.498333    0.486733    0.626667    0.180975   \n",
              "75%      1.000000    2.000000    0.655417    0.608602    0.730209    0.233214   \n",
              "max      1.000000    3.000000    0.861667    0.840896    0.972500    0.507463   \n",
              "\n",
              "            casual   registered          cnt  \n",
              "count   731.000000   731.000000   731.000000  \n",
              "mean    848.176471  3656.172367  4504.348837  \n",
              "std     686.622488  1560.256377  1937.211452  \n",
              "min       2.000000    20.000000    22.000000  \n",
              "25%     315.500000  2497.000000  3152.000000  \n",
              "50%     713.000000  3662.000000  4548.000000  \n",
              "75%    1096.000000  4776.500000  5956.000000  \n",
              "max    3410.000000  6946.000000  8714.000000  "
            ]
          },
          "execution_count": 13,
          "metadata": {},
          "output_type": "execute_result"
        }
      ],
      "source": [
        "daysDf.describe()"
      ]
    },
    {
      "cell_type": "markdown",
      "metadata": {
        "id": "ZI6zSYTyMXxQ"
      },
      "source": [
        "### Cek Invalid Input Kolom dteday"
      ]
    },
    {
      "cell_type": "code",
      "execution_count": 14,
      "metadata": {
        "id": "tycW55GbMcPz"
      },
      "outputs": [],
      "source": [
        "# Format Tanggal yang benar\n",
        "dtFormat = re.compile(r'^\\d{4}-\\d{2}-\\d{2}$')\n",
        "\n",
        "# Array untuk menampung format yang salah\n",
        "invDaysFormat = []\n",
        "\n",
        "for i in daysDf['dteday']:\n",
        "  #Cek terdapat kesalahan format\n",
        "  #jika ada masukkan kedalam array\n",
        "  if not dtFormat.match(i):\n",
        "    invDaysFormat.append(i)\n",
        "  else:\n",
        "    # Memisahkan tahun, bulan, dan hari\n",
        "    year, month, day = map(int, i.split('-'))\n",
        "    # Cek apakah bulan melebihi 12 atau tahun melebihi 2012\n",
        "    if month > 12 or year > 2012:\n",
        "      invDaysFormat.append(i)"
      ]
    },
    {
      "cell_type": "code",
      "execution_count": 15,
      "metadata": {
        "colab": {
          "base_uri": "https://localhost:8080/"
        },
        "id": "xyjVMMwjOW74",
        "outputId": "acad2d23-20f2-4cb8-d238-50d8ecdeb17f"
      },
      "outputs": [
        {
          "data": {
            "text/plain": [
              "0"
            ]
          },
          "execution_count": 15,
          "metadata": {},
          "output_type": "execute_result"
        }
      ],
      "source": [
        "#Cek panjang array format salah\n",
        "len(invDaysFormat)"
      ]
    },
    {
      "cell_type": "markdown",
      "metadata": {
        "id": "hcE7TgfLD9lh"
      },
      "source": [
        "Pada hasil penilaian (Assessing) awal di atas, terlihat beberapa poin yang dapat disimpulkan yaitu:\n",
        "1.   Tidak ada data null dari setiap kolom\n",
        "2.   Tidak ada data duplikat\n",
        "3.   Terdapat tipe data yang salah dari kolom dteday yang seharusnya bertipe data date time\n",
        "4.   Tidak terdapat invalid value dari kolom dteday\n",
        "\n",
        "\n",
        "---\n",
        "\n",
        "\n",
        "Catatan :\n",
        "* Terdapat ketidaksesuaian nilai maksimal pada kolom weathersit, menandakan tidak ada pelanggan rental sepeda ketika cuaca sedang hujan lebat\n",
        "* Pengecekan kolom dteday dilakukan karena tidak ikut terframing didalam fungsi describe. Pengecekan dengan berdasarkan tipe data string dan integer"
      ]
    },
    {
      "cell_type": "markdown",
      "metadata": {
        "id": "ZBwXT2m_Jbo9"
      },
      "source": [
        "### B. Penilaian Pada Dataframe Hours\n",
        "\n",
        "\n"
      ]
    },
    {
      "cell_type": "code",
      "execution_count": 16,
      "metadata": {
        "colab": {
          "base_uri": "https://localhost:8080/"
        },
        "id": "bP2BIN9GKgr1",
        "outputId": "d99e8628-fe1c-401d-b2a8-472832e28f69"
      },
      "outputs": [
        {
          "data": {
            "text/plain": [
              "(17379, 17)"
            ]
          },
          "execution_count": 16,
          "metadata": {},
          "output_type": "execute_result"
        }
      ],
      "source": [
        "#Cek total banyak baris data\n",
        "hoursDf.shape"
      ]
    },
    {
      "cell_type": "code",
      "execution_count": 17,
      "metadata": {
        "colab": {
          "base_uri": "https://localhost:8080/"
        },
        "id": "rASnBdSVKmR4",
        "outputId": "88d3003c-0b6f-43ea-fe9c-b513b75f1132"
      },
      "outputs": [
        {
          "name": "stdout",
          "output_type": "stream",
          "text": [
            "<class 'pandas.core.frame.DataFrame'>\n",
            "RangeIndex: 17379 entries, 0 to 17378\n",
            "Data columns (total 17 columns):\n",
            " #   Column      Non-Null Count  Dtype  \n",
            "---  ------      --------------  -----  \n",
            " 0   instant     17379 non-null  int64  \n",
            " 1   dteday      17379 non-null  object \n",
            " 2   season      17379 non-null  int64  \n",
            " 3   yr          17379 non-null  int64  \n",
            " 4   mnth        17379 non-null  int64  \n",
            " 5   hr          17379 non-null  int64  \n",
            " 6   holiday     17379 non-null  int64  \n",
            " 7   weekday     17379 non-null  int64  \n",
            " 8   workingday  17379 non-null  int64  \n",
            " 9   weathersit  17379 non-null  int64  \n",
            " 10  temp        17379 non-null  float64\n",
            " 11  atemp       17379 non-null  float64\n",
            " 12  hum         17379 non-null  float64\n",
            " 13  windspeed   17379 non-null  float64\n",
            " 14  casual      17379 non-null  int64  \n",
            " 15  registered  17379 non-null  int64  \n",
            " 16  cnt         17379 non-null  int64  \n",
            "dtypes: float64(4), int64(12), object(1)\n",
            "memory usage: 2.3+ MB\n"
          ]
        }
      ],
      "source": [
        "#Informasi Dasar\n",
        "hoursDf.info()"
      ]
    },
    {
      "cell_type": "markdown",
      "metadata": {
        "id": "fzjY8dklKYH7"
      },
      "source": [
        "### Cek Data Null"
      ]
    },
    {
      "cell_type": "code",
      "execution_count": 18,
      "metadata": {
        "colab": {
          "base_uri": "https://localhost:8080/"
        },
        "id": "S-kiRMrzKzN6",
        "outputId": "734ddc5d-ef71-407e-d049-2be2418d5093"
      },
      "outputs": [
        {
          "data": {
            "text/plain": [
              "instant       0\n",
              "dteday        0\n",
              "season        0\n",
              "yr            0\n",
              "mnth          0\n",
              "hr            0\n",
              "holiday       0\n",
              "weekday       0\n",
              "workingday    0\n",
              "weathersit    0\n",
              "temp          0\n",
              "atemp         0\n",
              "hum           0\n",
              "windspeed     0\n",
              "casual        0\n",
              "registered    0\n",
              "cnt           0\n",
              "dtype: int64"
            ]
          },
          "execution_count": 18,
          "metadata": {},
          "output_type": "execute_result"
        }
      ],
      "source": [
        "hoursDf.isna().sum()"
      ]
    },
    {
      "cell_type": "markdown",
      "metadata": {
        "id": "od3SDKPkKaiM"
      },
      "source": [
        "### Cek Data Duplikat"
      ]
    },
    {
      "cell_type": "code",
      "execution_count": 19,
      "metadata": {
        "colab": {
          "base_uri": "https://localhost:8080/"
        },
        "id": "9W3uvbolLU_i",
        "outputId": "c2ad5352-0cdf-43e9-8384-14d568d288f5"
      },
      "outputs": [
        {
          "data": {
            "text/plain": [
              "0"
            ]
          },
          "execution_count": 19,
          "metadata": {},
          "output_type": "execute_result"
        }
      ],
      "source": [
        "hoursDf.duplicated().sum()"
      ]
    },
    {
      "cell_type": "markdown",
      "metadata": {
        "id": "39_Wu-7qKdHN"
      },
      "source": [
        "### Cek Statistik Awal"
      ]
    },
    {
      "cell_type": "code",
      "execution_count": 20,
      "metadata": {
        "colab": {
          "base_uri": "https://localhost:8080/",
          "height": 320
        },
        "id": "ZkTw3cH_L_2H",
        "outputId": "b44f86e5-559a-4f77-f69b-b496ff724cfe"
      },
      "outputs": [
        {
          "data": {
            "text/html": [
              "<div>\n",
              "<style scoped>\n",
              "    .dataframe tbody tr th:only-of-type {\n",
              "        vertical-align: middle;\n",
              "    }\n",
              "\n",
              "    .dataframe tbody tr th {\n",
              "        vertical-align: top;\n",
              "    }\n",
              "\n",
              "    .dataframe thead th {\n",
              "        text-align: right;\n",
              "    }\n",
              "</style>\n",
              "<table border=\"1\" class=\"dataframe\">\n",
              "  <thead>\n",
              "    <tr style=\"text-align: right;\">\n",
              "      <th></th>\n",
              "      <th>instant</th>\n",
              "      <th>season</th>\n",
              "      <th>yr</th>\n",
              "      <th>mnth</th>\n",
              "      <th>holiday</th>\n",
              "      <th>weekday</th>\n",
              "      <th>workingday</th>\n",
              "      <th>weathersit</th>\n",
              "      <th>temp</th>\n",
              "      <th>atemp</th>\n",
              "      <th>hum</th>\n",
              "      <th>windspeed</th>\n",
              "      <th>casual</th>\n",
              "      <th>registered</th>\n",
              "      <th>cnt</th>\n",
              "    </tr>\n",
              "  </thead>\n",
              "  <tbody>\n",
              "    <tr>\n",
              "      <th>count</th>\n",
              "      <td>731.000000</td>\n",
              "      <td>731.000000</td>\n",
              "      <td>731.000000</td>\n",
              "      <td>731.000000</td>\n",
              "      <td>731.000000</td>\n",
              "      <td>731.000000</td>\n",
              "      <td>731.000000</td>\n",
              "      <td>731.000000</td>\n",
              "      <td>731.000000</td>\n",
              "      <td>731.000000</td>\n",
              "      <td>731.000000</td>\n",
              "      <td>731.000000</td>\n",
              "      <td>731.000000</td>\n",
              "      <td>731.000000</td>\n",
              "      <td>731.000000</td>\n",
              "    </tr>\n",
              "    <tr>\n",
              "      <th>mean</th>\n",
              "      <td>366.000000</td>\n",
              "      <td>2.496580</td>\n",
              "      <td>0.500684</td>\n",
              "      <td>6.519836</td>\n",
              "      <td>0.028728</td>\n",
              "      <td>2.997264</td>\n",
              "      <td>0.683995</td>\n",
              "      <td>1.395349</td>\n",
              "      <td>0.495385</td>\n",
              "      <td>0.474354</td>\n",
              "      <td>0.627894</td>\n",
              "      <td>0.190486</td>\n",
              "      <td>848.176471</td>\n",
              "      <td>3656.172367</td>\n",
              "      <td>4504.348837</td>\n",
              "    </tr>\n",
              "    <tr>\n",
              "      <th>std</th>\n",
              "      <td>211.165812</td>\n",
              "      <td>1.110807</td>\n",
              "      <td>0.500342</td>\n",
              "      <td>3.451913</td>\n",
              "      <td>0.167155</td>\n",
              "      <td>2.004787</td>\n",
              "      <td>0.465233</td>\n",
              "      <td>0.544894</td>\n",
              "      <td>0.183051</td>\n",
              "      <td>0.162961</td>\n",
              "      <td>0.142429</td>\n",
              "      <td>0.077498</td>\n",
              "      <td>686.622488</td>\n",
              "      <td>1560.256377</td>\n",
              "      <td>1937.211452</td>\n",
              "    </tr>\n",
              "    <tr>\n",
              "      <th>min</th>\n",
              "      <td>1.000000</td>\n",
              "      <td>1.000000</td>\n",
              "      <td>0.000000</td>\n",
              "      <td>1.000000</td>\n",
              "      <td>0.000000</td>\n",
              "      <td>0.000000</td>\n",
              "      <td>0.000000</td>\n",
              "      <td>1.000000</td>\n",
              "      <td>0.059130</td>\n",
              "      <td>0.079070</td>\n",
              "      <td>0.000000</td>\n",
              "      <td>0.022392</td>\n",
              "      <td>2.000000</td>\n",
              "      <td>20.000000</td>\n",
              "      <td>22.000000</td>\n",
              "    </tr>\n",
              "    <tr>\n",
              "      <th>25%</th>\n",
              "      <td>183.500000</td>\n",
              "      <td>2.000000</td>\n",
              "      <td>0.000000</td>\n",
              "      <td>4.000000</td>\n",
              "      <td>0.000000</td>\n",
              "      <td>1.000000</td>\n",
              "      <td>0.000000</td>\n",
              "      <td>1.000000</td>\n",
              "      <td>0.337083</td>\n",
              "      <td>0.337842</td>\n",
              "      <td>0.520000</td>\n",
              "      <td>0.134950</td>\n",
              "      <td>315.500000</td>\n",
              "      <td>2497.000000</td>\n",
              "      <td>3152.000000</td>\n",
              "    </tr>\n",
              "    <tr>\n",
              "      <th>50%</th>\n",
              "      <td>366.000000</td>\n",
              "      <td>3.000000</td>\n",
              "      <td>1.000000</td>\n",
              "      <td>7.000000</td>\n",
              "      <td>0.000000</td>\n",
              "      <td>3.000000</td>\n",
              "      <td>1.000000</td>\n",
              "      <td>1.000000</td>\n",
              "      <td>0.498333</td>\n",
              "      <td>0.486733</td>\n",
              "      <td>0.626667</td>\n",
              "      <td>0.180975</td>\n",
              "      <td>713.000000</td>\n",
              "      <td>3662.000000</td>\n",
              "      <td>4548.000000</td>\n",
              "    </tr>\n",
              "    <tr>\n",
              "      <th>75%</th>\n",
              "      <td>548.500000</td>\n",
              "      <td>3.000000</td>\n",
              "      <td>1.000000</td>\n",
              "      <td>10.000000</td>\n",
              "      <td>0.000000</td>\n",
              "      <td>5.000000</td>\n",
              "      <td>1.000000</td>\n",
              "      <td>2.000000</td>\n",
              "      <td>0.655417</td>\n",
              "      <td>0.608602</td>\n",
              "      <td>0.730209</td>\n",
              "      <td>0.233214</td>\n",
              "      <td>1096.000000</td>\n",
              "      <td>4776.500000</td>\n",
              "      <td>5956.000000</td>\n",
              "    </tr>\n",
              "    <tr>\n",
              "      <th>max</th>\n",
              "      <td>731.000000</td>\n",
              "      <td>4.000000</td>\n",
              "      <td>1.000000</td>\n",
              "      <td>12.000000</td>\n",
              "      <td>1.000000</td>\n",
              "      <td>6.000000</td>\n",
              "      <td>1.000000</td>\n",
              "      <td>3.000000</td>\n",
              "      <td>0.861667</td>\n",
              "      <td>0.840896</td>\n",
              "      <td>0.972500</td>\n",
              "      <td>0.507463</td>\n",
              "      <td>3410.000000</td>\n",
              "      <td>6946.000000</td>\n",
              "      <td>8714.000000</td>\n",
              "    </tr>\n",
              "  </tbody>\n",
              "</table>\n",
              "</div>"
            ],
            "text/plain": [
              "          instant      season          yr        mnth     holiday     weekday  \\\n",
              "count  731.000000  731.000000  731.000000  731.000000  731.000000  731.000000   \n",
              "mean   366.000000    2.496580    0.500684    6.519836    0.028728    2.997264   \n",
              "std    211.165812    1.110807    0.500342    3.451913    0.167155    2.004787   \n",
              "min      1.000000    1.000000    0.000000    1.000000    0.000000    0.000000   \n",
              "25%    183.500000    2.000000    0.000000    4.000000    0.000000    1.000000   \n",
              "50%    366.000000    3.000000    1.000000    7.000000    0.000000    3.000000   \n",
              "75%    548.500000    3.000000    1.000000   10.000000    0.000000    5.000000   \n",
              "max    731.000000    4.000000    1.000000   12.000000    1.000000    6.000000   \n",
              "\n",
              "       workingday  weathersit        temp       atemp         hum   windspeed  \\\n",
              "count  731.000000  731.000000  731.000000  731.000000  731.000000  731.000000   \n",
              "mean     0.683995    1.395349    0.495385    0.474354    0.627894    0.190486   \n",
              "std      0.465233    0.544894    0.183051    0.162961    0.142429    0.077498   \n",
              "min      0.000000    1.000000    0.059130    0.079070    0.000000    0.022392   \n",
              "25%      0.000000    1.000000    0.337083    0.337842    0.520000    0.134950   \n",
              "50%      1.000000    1.000000    0.498333    0.486733    0.626667    0.180975   \n",
              "75%      1.000000    2.000000    0.655417    0.608602    0.730209    0.233214   \n",
              "max      1.000000    3.000000    0.861667    0.840896    0.972500    0.507463   \n",
              "\n",
              "            casual   registered          cnt  \n",
              "count   731.000000   731.000000   731.000000  \n",
              "mean    848.176471  3656.172367  4504.348837  \n",
              "std     686.622488  1560.256377  1937.211452  \n",
              "min       2.000000    20.000000    22.000000  \n",
              "25%     315.500000  2497.000000  3152.000000  \n",
              "50%     713.000000  3662.000000  4548.000000  \n",
              "75%    1096.000000  4776.500000  5956.000000  \n",
              "max    3410.000000  6946.000000  8714.000000  "
            ]
          },
          "execution_count": 20,
          "metadata": {},
          "output_type": "execute_result"
        }
      ],
      "source": [
        "daysDf.describe()"
      ]
    },
    {
      "cell_type": "markdown",
      "metadata": {
        "id": "SIyELjpiR98l"
      },
      "source": [
        "### Cek Invalid Input Kolom dteday"
      ]
    },
    {
      "cell_type": "code",
      "execution_count": 21,
      "metadata": {
        "id": "6PPs1ZQTSF_D"
      },
      "outputs": [],
      "source": [
        "# Format Tanggal yang benar\n",
        "dtFormat = re.compile(r'^\\d{4}-\\d{2}-\\d{2}$')\n",
        "\n",
        "# Array untuk menampung format yang salah\n",
        "invHoursFormat = []\n",
        "\n",
        "for i in hoursDf['dteday']:\n",
        "  #Cek terdapat kesalahan format\n",
        "  #jika ada masukkan kedalam array\n",
        "  if not dtFormat.match(i):\n",
        "    invHoursFormat.append(i)\n",
        "  else:\n",
        "    # Memisahkan tahun, bulan, dan hari\n",
        "    year, month, day = map(int, i.split('-'))\n",
        "    # Cek apakah bulan melebihi 12 atau tahun melebihi 2012\n",
        "    if month > 12 or year > 2012:\n",
        "      invHoursFormat.append(i)"
      ]
    },
    {
      "cell_type": "code",
      "execution_count": 22,
      "metadata": {
        "colab": {
          "base_uri": "https://localhost:8080/"
        },
        "id": "adQ0DTL2SOym",
        "outputId": "0040426e-bc55-4c29-b4d2-75efd252a5e5"
      },
      "outputs": [
        {
          "data": {
            "text/plain": [
              "0"
            ]
          },
          "execution_count": 22,
          "metadata": {},
          "output_type": "execute_result"
        }
      ],
      "source": [
        "#Cek panjang array format salah\n",
        "len(invHoursFormat)"
      ]
    },
    {
      "cell_type": "markdown",
      "metadata": {
        "id": "MPjCC-kzSeMc"
      },
      "source": [
        "Pada hasil penilaian (Assessing) awal di atas, terlihat beberapa poin yang dapat disimpulkan yaitu:\n",
        "1.   Tidak ada data null dari setiap kolom\n",
        "2.   Tidak ada data duplikat\n",
        "3.   Terdapat tipe data yang salah dari kolom dteday yang seharusnya bertipe data date time\n",
        "4.   Tidak terdapat invalid value dari kolom dteday\n",
        "\n",
        "\n",
        "---\n",
        "\n",
        "\n",
        "Catatan :\n",
        "* Terdapat ketidaksesuaian nilai maksimal pada kolom weathersit, menandakan tidak ada pelanggan rental sepeda ketika cuaca sedang hujan lebat\n",
        "* Pengecekan kolom dteday dilakukan karena tidak ikut terframing didalam fungsi describe. Pengecekan dengan berdasarkan tipe data string dan integer"
      ]
    },
    {
      "cell_type": "markdown",
      "metadata": {
        "id": "EhN5R4hr8DC1"
      },
      "source": [
        "# Cleaning Data"
      ]
    },
    {
      "cell_type": "markdown",
      "metadata": {
        "id": "kU_6BXlB5f-0"
      },
      "source": [
        "## Mengubah Tipe Data Kolom dteday Pada DF Days"
      ]
    },
    {
      "cell_type": "code",
      "execution_count": 23,
      "metadata": {
        "id": "jVnYpprE9Evz"
      },
      "outputs": [],
      "source": [
        "daysDf['dteday'] = pd.to_datetime(daysDf['dteday'])"
      ]
    },
    {
      "cell_type": "code",
      "execution_count": 24,
      "metadata": {
        "colab": {
          "base_uri": "https://localhost:8080/"
        },
        "id": "XC8HJkX06tEJ",
        "outputId": "37ad403f-7284-4f84-effe-bc970078868a"
      },
      "outputs": [
        {
          "name": "stdout",
          "output_type": "stream",
          "text": [
            "<class 'pandas.core.frame.DataFrame'>\n",
            "RangeIndex: 731 entries, 0 to 730\n",
            "Data columns (total 16 columns):\n",
            " #   Column      Non-Null Count  Dtype         \n",
            "---  ------      --------------  -----         \n",
            " 0   instant     731 non-null    int64         \n",
            " 1   dteday      731 non-null    datetime64[ns]\n",
            " 2   season      731 non-null    int64         \n",
            " 3   yr          731 non-null    int64         \n",
            " 4   mnth        731 non-null    int64         \n",
            " 5   holiday     731 non-null    int64         \n",
            " 6   weekday     731 non-null    int64         \n",
            " 7   workingday  731 non-null    int64         \n",
            " 8   weathersit  731 non-null    int64         \n",
            " 9   temp        731 non-null    float64       \n",
            " 10  atemp       731 non-null    float64       \n",
            " 11  hum         731 non-null    float64       \n",
            " 12  windspeed   731 non-null    float64       \n",
            " 13  casual      731 non-null    int64         \n",
            " 14  registered  731 non-null    int64         \n",
            " 15  cnt         731 non-null    int64         \n",
            "dtypes: datetime64[ns](1), float64(4), int64(11)\n",
            "memory usage: 91.5 KB\n"
          ]
        }
      ],
      "source": [
        "#cek tipe data\n",
        "daysDf.info()"
      ]
    },
    {
      "cell_type": "markdown",
      "metadata": {
        "id": "2EBI8vBr6xhV"
      },
      "source": [
        "Dari hasil proses di atas, tipe data pada kolom \"dteday\" di DaysDf sudah terubah menjadi tipe data Date Time dari tipe data Object"
      ]
    },
    {
      "cell_type": "markdown",
      "metadata": {
        "id": "8jLnqSsu5n_4"
      },
      "source": [
        "## Mengubah Tipe Data Kolom dteday Pada DF Hours"
      ]
    },
    {
      "cell_type": "code",
      "execution_count": 25,
      "metadata": {
        "id": "qGolE5A65tkR"
      },
      "outputs": [],
      "source": [
        "hoursDf['dteday'] = pd.to_datetime(hoursDf['dteday'])"
      ]
    },
    {
      "cell_type": "code",
      "execution_count": 26,
      "metadata": {
        "colab": {
          "base_uri": "https://localhost:8080/"
        },
        "id": "4aNIkh5u7icO",
        "outputId": "1c79fb8c-cf7b-49ee-e995-12de4ca38bf4"
      },
      "outputs": [
        {
          "name": "stdout",
          "output_type": "stream",
          "text": [
            "<class 'pandas.core.frame.DataFrame'>\n",
            "RangeIndex: 731 entries, 0 to 730\n",
            "Data columns (total 16 columns):\n",
            " #   Column      Non-Null Count  Dtype         \n",
            "---  ------      --------------  -----         \n",
            " 0   instant     731 non-null    int64         \n",
            " 1   dteday      731 non-null    datetime64[ns]\n",
            " 2   season      731 non-null    int64         \n",
            " 3   yr          731 non-null    int64         \n",
            " 4   mnth        731 non-null    int64         \n",
            " 5   holiday     731 non-null    int64         \n",
            " 6   weekday     731 non-null    int64         \n",
            " 7   workingday  731 non-null    int64         \n",
            " 8   weathersit  731 non-null    int64         \n",
            " 9   temp        731 non-null    float64       \n",
            " 10  atemp       731 non-null    float64       \n",
            " 11  hum         731 non-null    float64       \n",
            " 12  windspeed   731 non-null    float64       \n",
            " 13  casual      731 non-null    int64         \n",
            " 14  registered  731 non-null    int64         \n",
            " 15  cnt         731 non-null    int64         \n",
            "dtypes: datetime64[ns](1), float64(4), int64(11)\n",
            "memory usage: 91.5 KB\n"
          ]
        }
      ],
      "source": [
        "#cek tipe data\n",
        "daysDf.info()"
      ]
    },
    {
      "cell_type": "markdown",
      "metadata": {
        "id": "K59E1Jyp7k7W"
      },
      "source": [
        "Dari hasil proses di atas, tipe data pada kolom \"dteday\" di HoursDf sudah terubah menjadi tipe data Date Time dari tipe data Object"
      ]
    },
    {
      "cell_type": "markdown",
      "metadata": {
        "id": "pHeDQba5Z49n"
      },
      "source": [
        "## Menghapus Kolom yang Tidak Digunakan pada DF Days"
      ]
    },
    {
      "cell_type": "code",
      "execution_count": 27,
      "metadata": {
        "id": "QLY6EtguaTtS"
      },
      "outputs": [],
      "source": [
        "droppedColDaysDf = ['temp', 'atemp', 'hum', 'windspeed']\n",
        "daysDf.drop(columns=droppedColDaysDf, inplace=True)"
      ]
    },
    {
      "cell_type": "code",
      "execution_count": 28,
      "metadata": {
        "colab": {
          "base_uri": "https://localhost:8080/",
          "height": 206
        },
        "id": "Hs6Yrk12a2No",
        "outputId": "9d414c1b-1488-49e9-c33d-3c2d24e0965d"
      },
      "outputs": [
        {
          "data": {
            "text/html": [
              "<div>\n",
              "<style scoped>\n",
              "    .dataframe tbody tr th:only-of-type {\n",
              "        vertical-align: middle;\n",
              "    }\n",
              "\n",
              "    .dataframe tbody tr th {\n",
              "        vertical-align: top;\n",
              "    }\n",
              "\n",
              "    .dataframe thead th {\n",
              "        text-align: right;\n",
              "    }\n",
              "</style>\n",
              "<table border=\"1\" class=\"dataframe\">\n",
              "  <thead>\n",
              "    <tr style=\"text-align: right;\">\n",
              "      <th></th>\n",
              "      <th>instant</th>\n",
              "      <th>dteday</th>\n",
              "      <th>season</th>\n",
              "      <th>yr</th>\n",
              "      <th>mnth</th>\n",
              "      <th>holiday</th>\n",
              "      <th>weekday</th>\n",
              "      <th>workingday</th>\n",
              "      <th>weathersit</th>\n",
              "      <th>casual</th>\n",
              "      <th>registered</th>\n",
              "      <th>cnt</th>\n",
              "    </tr>\n",
              "  </thead>\n",
              "  <tbody>\n",
              "    <tr>\n",
              "      <th>0</th>\n",
              "      <td>1</td>\n",
              "      <td>2011-01-01</td>\n",
              "      <td>1</td>\n",
              "      <td>0</td>\n",
              "      <td>1</td>\n",
              "      <td>0</td>\n",
              "      <td>6</td>\n",
              "      <td>0</td>\n",
              "      <td>2</td>\n",
              "      <td>331</td>\n",
              "      <td>654</td>\n",
              "      <td>985</td>\n",
              "    </tr>\n",
              "    <tr>\n",
              "      <th>1</th>\n",
              "      <td>2</td>\n",
              "      <td>2011-01-02</td>\n",
              "      <td>1</td>\n",
              "      <td>0</td>\n",
              "      <td>1</td>\n",
              "      <td>0</td>\n",
              "      <td>0</td>\n",
              "      <td>0</td>\n",
              "      <td>2</td>\n",
              "      <td>131</td>\n",
              "      <td>670</td>\n",
              "      <td>801</td>\n",
              "    </tr>\n",
              "    <tr>\n",
              "      <th>2</th>\n",
              "      <td>3</td>\n",
              "      <td>2011-01-03</td>\n",
              "      <td>1</td>\n",
              "      <td>0</td>\n",
              "      <td>1</td>\n",
              "      <td>0</td>\n",
              "      <td>1</td>\n",
              "      <td>1</td>\n",
              "      <td>1</td>\n",
              "      <td>120</td>\n",
              "      <td>1229</td>\n",
              "      <td>1349</td>\n",
              "    </tr>\n",
              "    <tr>\n",
              "      <th>3</th>\n",
              "      <td>4</td>\n",
              "      <td>2011-01-04</td>\n",
              "      <td>1</td>\n",
              "      <td>0</td>\n",
              "      <td>1</td>\n",
              "      <td>0</td>\n",
              "      <td>2</td>\n",
              "      <td>1</td>\n",
              "      <td>1</td>\n",
              "      <td>108</td>\n",
              "      <td>1454</td>\n",
              "      <td>1562</td>\n",
              "    </tr>\n",
              "    <tr>\n",
              "      <th>4</th>\n",
              "      <td>5</td>\n",
              "      <td>2011-01-05</td>\n",
              "      <td>1</td>\n",
              "      <td>0</td>\n",
              "      <td>1</td>\n",
              "      <td>0</td>\n",
              "      <td>3</td>\n",
              "      <td>1</td>\n",
              "      <td>1</td>\n",
              "      <td>82</td>\n",
              "      <td>1518</td>\n",
              "      <td>1600</td>\n",
              "    </tr>\n",
              "  </tbody>\n",
              "</table>\n",
              "</div>"
            ],
            "text/plain": [
              "   instant     dteday  season  yr  mnth  holiday  weekday  workingday  \\\n",
              "0        1 2011-01-01       1   0     1        0        6           0   \n",
              "1        2 2011-01-02       1   0     1        0        0           0   \n",
              "2        3 2011-01-03       1   0     1        0        1           1   \n",
              "3        4 2011-01-04       1   0     1        0        2           1   \n",
              "4        5 2011-01-05       1   0     1        0        3           1   \n",
              "\n",
              "   weathersit  casual  registered   cnt  \n",
              "0           2     331         654   985  \n",
              "1           2     131         670   801  \n",
              "2           1     120        1229  1349  \n",
              "3           1     108        1454  1562  \n",
              "4           1      82        1518  1600  "
            ]
          },
          "execution_count": 28,
          "metadata": {},
          "output_type": "execute_result"
        }
      ],
      "source": [
        "daysDf.head()"
      ]
    },
    {
      "cell_type": "markdown",
      "metadata": {
        "id": "BwA0bVPya6ez"
      },
      "source": [
        "## Menghapus Kolom yang Tidak Digunakan pada DF Hours"
      ]
    },
    {
      "cell_type": "code",
      "execution_count": 29,
      "metadata": {
        "id": "nW_42M57a_cL"
      },
      "outputs": [],
      "source": [
        "droppedColHoursDf = ['temp', 'atemp', 'hum', 'windspeed']\n",
        "hoursDf.drop(columns=droppedColHoursDf, inplace=True)"
      ]
    },
    {
      "cell_type": "code",
      "execution_count": 30,
      "metadata": {
        "colab": {
          "base_uri": "https://localhost:8080/",
          "height": 206
        },
        "id": "Ae-Qv2RTbJkm",
        "outputId": "761a15c2-47f8-415f-8a68-beb37ec16664"
      },
      "outputs": [
        {
          "data": {
            "text/html": [
              "<div>\n",
              "<style scoped>\n",
              "    .dataframe tbody tr th:only-of-type {\n",
              "        vertical-align: middle;\n",
              "    }\n",
              "\n",
              "    .dataframe tbody tr th {\n",
              "        vertical-align: top;\n",
              "    }\n",
              "\n",
              "    .dataframe thead th {\n",
              "        text-align: right;\n",
              "    }\n",
              "</style>\n",
              "<table border=\"1\" class=\"dataframe\">\n",
              "  <thead>\n",
              "    <tr style=\"text-align: right;\">\n",
              "      <th></th>\n",
              "      <th>instant</th>\n",
              "      <th>dteday</th>\n",
              "      <th>season</th>\n",
              "      <th>yr</th>\n",
              "      <th>mnth</th>\n",
              "      <th>hr</th>\n",
              "      <th>holiday</th>\n",
              "      <th>weekday</th>\n",
              "      <th>workingday</th>\n",
              "      <th>weathersit</th>\n",
              "      <th>casual</th>\n",
              "      <th>registered</th>\n",
              "      <th>cnt</th>\n",
              "    </tr>\n",
              "  </thead>\n",
              "  <tbody>\n",
              "    <tr>\n",
              "      <th>0</th>\n",
              "      <td>1</td>\n",
              "      <td>2011-01-01</td>\n",
              "      <td>1</td>\n",
              "      <td>0</td>\n",
              "      <td>1</td>\n",
              "      <td>0</td>\n",
              "      <td>0</td>\n",
              "      <td>6</td>\n",
              "      <td>0</td>\n",
              "      <td>1</td>\n",
              "      <td>3</td>\n",
              "      <td>13</td>\n",
              "      <td>16</td>\n",
              "    </tr>\n",
              "    <tr>\n",
              "      <th>1</th>\n",
              "      <td>2</td>\n",
              "      <td>2011-01-01</td>\n",
              "      <td>1</td>\n",
              "      <td>0</td>\n",
              "      <td>1</td>\n",
              "      <td>1</td>\n",
              "      <td>0</td>\n",
              "      <td>6</td>\n",
              "      <td>0</td>\n",
              "      <td>1</td>\n",
              "      <td>8</td>\n",
              "      <td>32</td>\n",
              "      <td>40</td>\n",
              "    </tr>\n",
              "    <tr>\n",
              "      <th>2</th>\n",
              "      <td>3</td>\n",
              "      <td>2011-01-01</td>\n",
              "      <td>1</td>\n",
              "      <td>0</td>\n",
              "      <td>1</td>\n",
              "      <td>2</td>\n",
              "      <td>0</td>\n",
              "      <td>6</td>\n",
              "      <td>0</td>\n",
              "      <td>1</td>\n",
              "      <td>5</td>\n",
              "      <td>27</td>\n",
              "      <td>32</td>\n",
              "    </tr>\n",
              "    <tr>\n",
              "      <th>3</th>\n",
              "      <td>4</td>\n",
              "      <td>2011-01-01</td>\n",
              "      <td>1</td>\n",
              "      <td>0</td>\n",
              "      <td>1</td>\n",
              "      <td>3</td>\n",
              "      <td>0</td>\n",
              "      <td>6</td>\n",
              "      <td>0</td>\n",
              "      <td>1</td>\n",
              "      <td>3</td>\n",
              "      <td>10</td>\n",
              "      <td>13</td>\n",
              "    </tr>\n",
              "    <tr>\n",
              "      <th>4</th>\n",
              "      <td>5</td>\n",
              "      <td>2011-01-01</td>\n",
              "      <td>1</td>\n",
              "      <td>0</td>\n",
              "      <td>1</td>\n",
              "      <td>4</td>\n",
              "      <td>0</td>\n",
              "      <td>6</td>\n",
              "      <td>0</td>\n",
              "      <td>1</td>\n",
              "      <td>0</td>\n",
              "      <td>1</td>\n",
              "      <td>1</td>\n",
              "    </tr>\n",
              "  </tbody>\n",
              "</table>\n",
              "</div>"
            ],
            "text/plain": [
              "   instant     dteday  season  yr  mnth  hr  holiday  weekday  workingday  \\\n",
              "0        1 2011-01-01       1   0     1   0        0        6           0   \n",
              "1        2 2011-01-01       1   0     1   1        0        6           0   \n",
              "2        3 2011-01-01       1   0     1   2        0        6           0   \n",
              "3        4 2011-01-01       1   0     1   3        0        6           0   \n",
              "4        5 2011-01-01       1   0     1   4        0        6           0   \n",
              "\n",
              "   weathersit  casual  registered  cnt  \n",
              "0           1       3          13   16  \n",
              "1           1       8          32   40  \n",
              "2           1       5          27   32  \n",
              "3           1       3          10   13  \n",
              "4           1       0           1    1  "
            ]
          },
          "execution_count": 30,
          "metadata": {},
          "output_type": "execute_result"
        }
      ],
      "source": [
        "hoursDf.head()"
      ]
    },
    {
      "cell_type": "markdown",
      "metadata": {
        "id": "gp-Y6wU38DC1"
      },
      "source": [
        "# Exploratory Data Analysis (EDA)"
      ]
    },
    {
      "cell_type": "markdown",
      "metadata": {
        "id": "MW7WF2kr8DC1"
      },
      "source": [
        "### Menyatakan Pertanyaan Yang Akan Dieksplor"
      ]
    },
    {
      "cell_type": "markdown",
      "metadata": {
        "id": "oGbmwejg-VsL"
      },
      "source": [
        "Pertanyaan-pertanyaan itu adalah sebagai berikut:\n",
        "\n",
        "\n",
        "1.   Pada rentang waktu kapan pesepeda cenderung melakukan peminjaman sepeda?\n",
        "2.   Bagaimana kecenderungan peminjam dalam meminjam sepeda, apakah ketika hari kerja (Working Day) atau sebaliknya?\n",
        "3.   Kondisi cuaca seperti apa yang memiliki jumlah tertinggi peminjam sepeda?\n",
        "4.   Musim dengan rata-rata peminjam tertinggi itu musim apa?\n",
        "5.   Bagaimana pembagian rata-rata peminjam kasual dan yang terdaftar pada rentang tahun?\n",
        "6.   Apa parameter nilai yang memiliki korelasi tertinggi? (untuk analisis lanjut)\n"
      ]
    },
    {
      "cell_type": "markdown",
      "metadata": {
        "id": "m2ve_LUFAtfK"
      },
      "source": [
        "## Menjawab Pertanyaan 1"
      ]
    },
    {
      "cell_type": "markdown",
      "metadata": {
        "id": "XrRREvckAyBx"
      },
      "source": [
        "### Membuat Kategori Range Waktu"
      ]
    },
    {
      "cell_type": "code",
      "execution_count": 31,
      "metadata": {
        "colab": {
          "base_uri": "https://localhost:8080/"
        },
        "id": "e9CQCZjk8DC2",
        "outputId": "29e2b48e-74bd-4ad6-a551-9c2ba5b77cfc"
      },
      "outputs": [
        {
          "data": {
            "text/plain": [
              "array([ 0,  1,  2,  3,  4,  5,  6,  7,  8,  9, 10, 11, 12, 13, 14, 15, 16,\n",
              "       17, 18, 19, 20, 21, 22, 23], dtype=int64)"
            ]
          },
          "execution_count": 31,
          "metadata": {},
          "output_type": "execute_result"
        }
      ],
      "source": [
        "# Melihat nilai unique pada kolom hr\n",
        "hoursDf.hr.unique()"
      ]
    },
    {
      "cell_type": "code",
      "execution_count": 32,
      "metadata": {
        "colab": {
          "base_uri": "https://localhost:8080/",
          "height": 206
        },
        "id": "-iMrSiR5CdnN",
        "outputId": "cce7cbff-36f6-459b-f720-f79cac1ebb9d"
      },
      "outputs": [
        {
          "data": {
            "text/html": [
              "<div>\n",
              "<style scoped>\n",
              "    .dataframe tbody tr th:only-of-type {\n",
              "        vertical-align: middle;\n",
              "    }\n",
              "\n",
              "    .dataframe tbody tr th {\n",
              "        vertical-align: top;\n",
              "    }\n",
              "\n",
              "    .dataframe thead th {\n",
              "        text-align: right;\n",
              "    }\n",
              "</style>\n",
              "<table border=\"1\" class=\"dataframe\">\n",
              "  <thead>\n",
              "    <tr style=\"text-align: right;\">\n",
              "      <th></th>\n",
              "      <th>instant</th>\n",
              "      <th>dteday</th>\n",
              "      <th>season</th>\n",
              "      <th>yr</th>\n",
              "      <th>mnth</th>\n",
              "      <th>hr</th>\n",
              "      <th>holiday</th>\n",
              "      <th>weekday</th>\n",
              "      <th>workingday</th>\n",
              "      <th>weathersit</th>\n",
              "      <th>casual</th>\n",
              "      <th>registered</th>\n",
              "      <th>cnt</th>\n",
              "      <th>range_times</th>\n",
              "    </tr>\n",
              "  </thead>\n",
              "  <tbody>\n",
              "    <tr>\n",
              "      <th>2846</th>\n",
              "      <td>2847</td>\n",
              "      <td>2011-05-03</td>\n",
              "      <td>2</td>\n",
              "      <td>0</td>\n",
              "      <td>5</td>\n",
              "      <td>12</td>\n",
              "      <td>0</td>\n",
              "      <td>2</td>\n",
              "      <td>1</td>\n",
              "      <td>2</td>\n",
              "      <td>48</td>\n",
              "      <td>169</td>\n",
              "      <td>217</td>\n",
              "      <td>Afternoon</td>\n",
              "    </tr>\n",
              "    <tr>\n",
              "      <th>13907</th>\n",
              "      <td>13908</td>\n",
              "      <td>2012-08-07</td>\n",
              "      <td>3</td>\n",
              "      <td>1</td>\n",
              "      <td>8</td>\n",
              "      <td>16</td>\n",
              "      <td>0</td>\n",
              "      <td>2</td>\n",
              "      <td>1</td>\n",
              "      <td>3</td>\n",
              "      <td>101</td>\n",
              "      <td>344</td>\n",
              "      <td>445</td>\n",
              "      <td>Afternoon</td>\n",
              "    </tr>\n",
              "    <tr>\n",
              "      <th>12755</th>\n",
              "      <td>12756</td>\n",
              "      <td>2012-06-20</td>\n",
              "      <td>2</td>\n",
              "      <td>1</td>\n",
              "      <td>6</td>\n",
              "      <td>16</td>\n",
              "      <td>0</td>\n",
              "      <td>3</td>\n",
              "      <td>1</td>\n",
              "      <td>1</td>\n",
              "      <td>51</td>\n",
              "      <td>284</td>\n",
              "      <td>335</td>\n",
              "      <td>Afternoon</td>\n",
              "    </tr>\n",
              "    <tr>\n",
              "      <th>2605</th>\n",
              "      <td>2606</td>\n",
              "      <td>2011-04-23</td>\n",
              "      <td>2</td>\n",
              "      <td>0</td>\n",
              "      <td>4</td>\n",
              "      <td>11</td>\n",
              "      <td>0</td>\n",
              "      <td>6</td>\n",
              "      <td>0</td>\n",
              "      <td>2</td>\n",
              "      <td>68</td>\n",
              "      <td>164</td>\n",
              "      <td>232</td>\n",
              "      <td>Afternoon</td>\n",
              "    </tr>\n",
              "    <tr>\n",
              "      <th>10372</th>\n",
              "      <td>10373</td>\n",
              "      <td>2012-03-13</td>\n",
              "      <td>1</td>\n",
              "      <td>1</td>\n",
              "      <td>3</td>\n",
              "      <td>7</td>\n",
              "      <td>0</td>\n",
              "      <td>2</td>\n",
              "      <td>1</td>\n",
              "      <td>2</td>\n",
              "      <td>16</td>\n",
              "      <td>292</td>\n",
              "      <td>308</td>\n",
              "      <td>Morning</td>\n",
              "    </tr>\n",
              "  </tbody>\n",
              "</table>\n",
              "</div>"
            ],
            "text/plain": [
              "       instant     dteday  season  yr  mnth  hr  holiday  weekday  workingday  \\\n",
              "2846      2847 2011-05-03       2   0     5  12        0        2           1   \n",
              "13907    13908 2012-08-07       3   1     8  16        0        2           1   \n",
              "12755    12756 2012-06-20       2   1     6  16        0        3           1   \n",
              "2605      2606 2011-04-23       2   0     4  11        0        6           0   \n",
              "10372    10373 2012-03-13       1   1     3   7        0        2           1   \n",
              "\n",
              "       weathersit  casual  registered  cnt range_times  \n",
              "2846            2      48         169  217   Afternoon  \n",
              "13907           3     101         344  445   Afternoon  \n",
              "12755           1      51         284  335   Afternoon  \n",
              "2605            2      68         164  232   Afternoon  \n",
              "10372           2      16         292  308     Morning  "
            ]
          },
          "execution_count": 32,
          "metadata": {},
          "output_type": "execute_result"
        }
      ],
      "source": [
        "# Membuat kolom kategori rentang waktu\n",
        "# Membuat fungsi mapping kategori rentang waktu\n",
        "def rangeTimes(hr):\n",
        "  if hr >= 0 and hr <= 3:\n",
        "    return \"Dawn\"\n",
        "  elif hr > 3 and hr <= 10:\n",
        "    return \"Morning\"\n",
        "  elif hr > 10 and hr <= 16:\n",
        "    return \"Afternoon\"\n",
        "  elif hr > 16 and hr <= 18:\n",
        "    return \"Evening\"\n",
        "  elif hr > 18:\n",
        "    return \"Night\"\n",
        "\n",
        "# Mengubah kolom hr menjadi list sendiri\n",
        "range_times_hours_df = hoursDf.hr.tolist()\n",
        "# Mengaplikasikan fungsi yang sudah dibuat\n",
        "hoursDf['range_times'] = hoursDf['hr'].apply(rangeTimes)\n",
        "\n",
        "# Tampilkan preview\n",
        "hoursDf.sample(5)"
      ]
    },
    {
      "cell_type": "markdown",
      "metadata": {
        "id": "ZWWNjBKiOSZ8"
      },
      "source": [
        "### Membuat Pivot Table Hasil Kolom Range Waktu"
      ]
    },
    {
      "cell_type": "code",
      "execution_count": 33,
      "metadata": {
        "colab": {
          "base_uri": "https://localhost:8080/"
        },
        "id": "AAuIU16CBdDH",
        "outputId": "7bf4721f-05f4-402d-c6ed-8c39bd4273de"
      },
      "outputs": [
        {
          "data": {
            "text/plain": [
              "range_times\n",
              "Morning      5047\n",
              "Afternoon    4372\n",
              "Night        3640\n",
              "Dawn         2862\n",
              "Evening      1458\n",
              "Name: range_times, dtype: int64"
            ]
          },
          "execution_count": 33,
          "metadata": {},
          "output_type": "execute_result"
        }
      ],
      "source": [
        "# Melakukan mapping pada range jam disertai data total peminjam baik registered maupun casual\n",
        "groupedByRangeTimes = hoursDf.groupby(by='range_times').range_times.count().sort_values(ascending=False)\n",
        "\n",
        "groupedByRangeTimes"
      ]
    },
    {
      "cell_type": "markdown",
      "metadata": {
        "id": "HrmBAR00KeYU"
      },
      "source": [
        "Jawab:\n",
        "\n",
        "Dari hasil Pivot Table di atas, dapat disimpulkan bahwa frekuensi peminjam sepeda dalam rentang waktu tertinggi adalah di **Pagi Hari** dengan total 5047 peminjam secara keseluruhan."
      ]
    },
    {
      "cell_type": "markdown",
      "metadata": {
        "id": "gAfJtPjrN6Vw"
      },
      "source": [
        "## Menjawab Pertanyaan 2"
      ]
    },
    {
      "cell_type": "markdown",
      "metadata": {
        "id": "FhWIQFs3Og3Q"
      },
      "source": [
        "### Pengelompokan Jenis Hari"
      ]
    },
    {
      "cell_type": "code",
      "execution_count": 34,
      "metadata": {
        "colab": {
          "base_uri": "https://localhost:8080/"
        },
        "id": "P5HC5g8MPVz8",
        "outputId": "6cb11f8d-7dfe-43ca-92a3-e4d2dc2b9a0b"
      },
      "outputs": [
        {
          "data": {
            "text/plain": [
              "array([0, 1], dtype=int64)"
            ]
          },
          "execution_count": 34,
          "metadata": {},
          "output_type": "execute_result"
        }
      ],
      "source": [
        "# Cek Nilai Unique\n",
        "hoursDf.holiday.unique()"
      ]
    },
    {
      "cell_type": "code",
      "execution_count": 35,
      "metadata": {
        "id": "jd5M_wE_QJja"
      },
      "outputs": [],
      "source": [
        "# Buat fungsi menambah kolom\n",
        "def dayType(row):\n",
        "  dayTypeName = ''\n",
        "  if row['workingday'] == 0 and (row['weekday'] == 0 or row['weekday'] == 6):\n",
        "    dayTypeName = 'Holiday'\n",
        "    return dayTypeName\n",
        "  elif row['workingday'] == 1 and row['holiday'] == 1:\n",
        "    dayTypeName = 'Holiday'\n",
        "    return dayTypeName\n",
        "  elif row['weekday'] >= 1 and row['weekday'] <= 5:\n",
        "    dayTypeName = 'Working Day'\n",
        "    return dayTypeName\n",
        "  elif (row['weekday'] >= 1 and row['weekday'] <= 5) and row['holiday'] == 1:\n",
        "    dayTypeName = 'Holiday'\n",
        "    return dayTypeName\n",
        "  elif (row['holiday'] == 0 and row['workingday'] == 0) and (row['weekday'] == 0 or row['weekday'] == 6):\n",
        "    dayTypeName = 'Holiday'\n",
        "    return dayTypeName\n",
        "  elif (row['holiday'] == 0 and row['workingday'] == 0) and (row['weekday'] >= 1 and row['weekday'] <= 5):\n",
        "    dayTypeName = 'Working Day'\n",
        "    return dayTypeName\n",
        "\n",
        "# Buat Kolom Baru untuk Pivot Table\n",
        "hoursDf['day_type'] = hoursDf.apply(dayType, axis=1)"
      ]
    },
    {
      "cell_type": "code",
      "execution_count": 36,
      "metadata": {
        "colab": {
          "base_uri": "https://localhost:8080/",
          "height": 423
        },
        "id": "rWZKw0y58dm5",
        "outputId": "d300060c-394f-4d7f-ffdb-434f154487a9"
      },
      "outputs": [
        {
          "data": {
            "text/html": [
              "<div>\n",
              "<style scoped>\n",
              "    .dataframe tbody tr th:only-of-type {\n",
              "        vertical-align: middle;\n",
              "    }\n",
              "\n",
              "    .dataframe tbody tr th {\n",
              "        vertical-align: top;\n",
              "    }\n",
              "\n",
              "    .dataframe thead th {\n",
              "        text-align: right;\n",
              "    }\n",
              "</style>\n",
              "<table border=\"1\" class=\"dataframe\">\n",
              "  <thead>\n",
              "    <tr style=\"text-align: right;\">\n",
              "      <th></th>\n",
              "      <th>instant</th>\n",
              "      <th>dteday</th>\n",
              "      <th>season</th>\n",
              "      <th>yr</th>\n",
              "      <th>mnth</th>\n",
              "      <th>hr</th>\n",
              "      <th>holiday</th>\n",
              "      <th>weekday</th>\n",
              "      <th>workingday</th>\n",
              "      <th>weathersit</th>\n",
              "      <th>casual</th>\n",
              "      <th>registered</th>\n",
              "      <th>cnt</th>\n",
              "      <th>range_times</th>\n",
              "      <th>day_type</th>\n",
              "    </tr>\n",
              "  </thead>\n",
              "  <tbody>\n",
              "    <tr>\n",
              "      <th>0</th>\n",
              "      <td>1</td>\n",
              "      <td>2011-01-01</td>\n",
              "      <td>1</td>\n",
              "      <td>0</td>\n",
              "      <td>1</td>\n",
              "      <td>0</td>\n",
              "      <td>0</td>\n",
              "      <td>6</td>\n",
              "      <td>0</td>\n",
              "      <td>1</td>\n",
              "      <td>3</td>\n",
              "      <td>13</td>\n",
              "      <td>16</td>\n",
              "      <td>Dawn</td>\n",
              "      <td>Holiday</td>\n",
              "    </tr>\n",
              "    <tr>\n",
              "      <th>1</th>\n",
              "      <td>2</td>\n",
              "      <td>2011-01-01</td>\n",
              "      <td>1</td>\n",
              "      <td>0</td>\n",
              "      <td>1</td>\n",
              "      <td>1</td>\n",
              "      <td>0</td>\n",
              "      <td>6</td>\n",
              "      <td>0</td>\n",
              "      <td>1</td>\n",
              "      <td>8</td>\n",
              "      <td>32</td>\n",
              "      <td>40</td>\n",
              "      <td>Dawn</td>\n",
              "      <td>Holiday</td>\n",
              "    </tr>\n",
              "    <tr>\n",
              "      <th>2</th>\n",
              "      <td>3</td>\n",
              "      <td>2011-01-01</td>\n",
              "      <td>1</td>\n",
              "      <td>0</td>\n",
              "      <td>1</td>\n",
              "      <td>2</td>\n",
              "      <td>0</td>\n",
              "      <td>6</td>\n",
              "      <td>0</td>\n",
              "      <td>1</td>\n",
              "      <td>5</td>\n",
              "      <td>27</td>\n",
              "      <td>32</td>\n",
              "      <td>Dawn</td>\n",
              "      <td>Holiday</td>\n",
              "    </tr>\n",
              "    <tr>\n",
              "      <th>3</th>\n",
              "      <td>4</td>\n",
              "      <td>2011-01-01</td>\n",
              "      <td>1</td>\n",
              "      <td>0</td>\n",
              "      <td>1</td>\n",
              "      <td>3</td>\n",
              "      <td>0</td>\n",
              "      <td>6</td>\n",
              "      <td>0</td>\n",
              "      <td>1</td>\n",
              "      <td>3</td>\n",
              "      <td>10</td>\n",
              "      <td>13</td>\n",
              "      <td>Dawn</td>\n",
              "      <td>Holiday</td>\n",
              "    </tr>\n",
              "    <tr>\n",
              "      <th>4</th>\n",
              "      <td>5</td>\n",
              "      <td>2011-01-01</td>\n",
              "      <td>1</td>\n",
              "      <td>0</td>\n",
              "      <td>1</td>\n",
              "      <td>4</td>\n",
              "      <td>0</td>\n",
              "      <td>6</td>\n",
              "      <td>0</td>\n",
              "      <td>1</td>\n",
              "      <td>0</td>\n",
              "      <td>1</td>\n",
              "      <td>1</td>\n",
              "      <td>Morning</td>\n",
              "      <td>Holiday</td>\n",
              "    </tr>\n",
              "    <tr>\n",
              "      <th>...</th>\n",
              "      <td>...</td>\n",
              "      <td>...</td>\n",
              "      <td>...</td>\n",
              "      <td>...</td>\n",
              "      <td>...</td>\n",
              "      <td>...</td>\n",
              "      <td>...</td>\n",
              "      <td>...</td>\n",
              "      <td>...</td>\n",
              "      <td>...</td>\n",
              "      <td>...</td>\n",
              "      <td>...</td>\n",
              "      <td>...</td>\n",
              "      <td>...</td>\n",
              "      <td>...</td>\n",
              "    </tr>\n",
              "    <tr>\n",
              "      <th>17374</th>\n",
              "      <td>17375</td>\n",
              "      <td>2012-12-31</td>\n",
              "      <td>1</td>\n",
              "      <td>1</td>\n",
              "      <td>12</td>\n",
              "      <td>19</td>\n",
              "      <td>0</td>\n",
              "      <td>1</td>\n",
              "      <td>1</td>\n",
              "      <td>2</td>\n",
              "      <td>11</td>\n",
              "      <td>108</td>\n",
              "      <td>119</td>\n",
              "      <td>Night</td>\n",
              "      <td>Working Day</td>\n",
              "    </tr>\n",
              "    <tr>\n",
              "      <th>17375</th>\n",
              "      <td>17376</td>\n",
              "      <td>2012-12-31</td>\n",
              "      <td>1</td>\n",
              "      <td>1</td>\n",
              "      <td>12</td>\n",
              "      <td>20</td>\n",
              "      <td>0</td>\n",
              "      <td>1</td>\n",
              "      <td>1</td>\n",
              "      <td>2</td>\n",
              "      <td>8</td>\n",
              "      <td>81</td>\n",
              "      <td>89</td>\n",
              "      <td>Night</td>\n",
              "      <td>Working Day</td>\n",
              "    </tr>\n",
              "    <tr>\n",
              "      <th>17376</th>\n",
              "      <td>17377</td>\n",
              "      <td>2012-12-31</td>\n",
              "      <td>1</td>\n",
              "      <td>1</td>\n",
              "      <td>12</td>\n",
              "      <td>21</td>\n",
              "      <td>0</td>\n",
              "      <td>1</td>\n",
              "      <td>1</td>\n",
              "      <td>1</td>\n",
              "      <td>7</td>\n",
              "      <td>83</td>\n",
              "      <td>90</td>\n",
              "      <td>Night</td>\n",
              "      <td>Working Day</td>\n",
              "    </tr>\n",
              "    <tr>\n",
              "      <th>17377</th>\n",
              "      <td>17378</td>\n",
              "      <td>2012-12-31</td>\n",
              "      <td>1</td>\n",
              "      <td>1</td>\n",
              "      <td>12</td>\n",
              "      <td>22</td>\n",
              "      <td>0</td>\n",
              "      <td>1</td>\n",
              "      <td>1</td>\n",
              "      <td>1</td>\n",
              "      <td>13</td>\n",
              "      <td>48</td>\n",
              "      <td>61</td>\n",
              "      <td>Night</td>\n",
              "      <td>Working Day</td>\n",
              "    </tr>\n",
              "    <tr>\n",
              "      <th>17378</th>\n",
              "      <td>17379</td>\n",
              "      <td>2012-12-31</td>\n",
              "      <td>1</td>\n",
              "      <td>1</td>\n",
              "      <td>12</td>\n",
              "      <td>23</td>\n",
              "      <td>0</td>\n",
              "      <td>1</td>\n",
              "      <td>1</td>\n",
              "      <td>1</td>\n",
              "      <td>12</td>\n",
              "      <td>37</td>\n",
              "      <td>49</td>\n",
              "      <td>Night</td>\n",
              "      <td>Working Day</td>\n",
              "    </tr>\n",
              "  </tbody>\n",
              "</table>\n",
              "<p>17379 rows × 15 columns</p>\n",
              "</div>"
            ],
            "text/plain": [
              "       instant     dteday  season  yr  mnth  hr  holiday  weekday  workingday  \\\n",
              "0            1 2011-01-01       1   0     1   0        0        6           0   \n",
              "1            2 2011-01-01       1   0     1   1        0        6           0   \n",
              "2            3 2011-01-01       1   0     1   2        0        6           0   \n",
              "3            4 2011-01-01       1   0     1   3        0        6           0   \n",
              "4            5 2011-01-01       1   0     1   4        0        6           0   \n",
              "...        ...        ...     ...  ..   ...  ..      ...      ...         ...   \n",
              "17374    17375 2012-12-31       1   1    12  19        0        1           1   \n",
              "17375    17376 2012-12-31       1   1    12  20        0        1           1   \n",
              "17376    17377 2012-12-31       1   1    12  21        0        1           1   \n",
              "17377    17378 2012-12-31       1   1    12  22        0        1           1   \n",
              "17378    17379 2012-12-31       1   1    12  23        0        1           1   \n",
              "\n",
              "       weathersit  casual  registered  cnt range_times     day_type  \n",
              "0               1       3          13   16        Dawn      Holiday  \n",
              "1               1       8          32   40        Dawn      Holiday  \n",
              "2               1       5          27   32        Dawn      Holiday  \n",
              "3               1       3          10   13        Dawn      Holiday  \n",
              "4               1       0           1    1     Morning      Holiday  \n",
              "...           ...     ...         ...  ...         ...          ...  \n",
              "17374           2      11         108  119       Night  Working Day  \n",
              "17375           2       8          81   89       Night  Working Day  \n",
              "17376           1       7          83   90       Night  Working Day  \n",
              "17377           1      13          48   61       Night  Working Day  \n",
              "17378           1      12          37   49       Night  Working Day  \n",
              "\n",
              "[17379 rows x 15 columns]"
            ]
          },
          "execution_count": 36,
          "metadata": {},
          "output_type": "execute_result"
        }
      ],
      "source": [
        "hoursDf"
      ]
    },
    {
      "cell_type": "markdown",
      "metadata": {
        "id": "1RDdK31807ZE"
      },
      "source": [
        "### Pengecekan apakah sudah benar pengkategoriannya"
      ]
    },
    {
      "cell_type": "code",
      "execution_count": 37,
      "metadata": {
        "colab": {
          "base_uri": "https://localhost:8080/",
          "height": 363
        },
        "id": "Tm1wNeHHT-LH",
        "outputId": "ec7b0910-7414-41c8-a4a1-1a54507214ca"
      },
      "outputs": [
        {
          "data": {
            "text/html": [
              "<div>\n",
              "<style scoped>\n",
              "    .dataframe tbody tr th:only-of-type {\n",
              "        vertical-align: middle;\n",
              "    }\n",
              "\n",
              "    .dataframe tbody tr th {\n",
              "        vertical-align: top;\n",
              "    }\n",
              "\n",
              "    .dataframe thead th {\n",
              "        text-align: right;\n",
              "    }\n",
              "</style>\n",
              "<table border=\"1\" class=\"dataframe\">\n",
              "  <thead>\n",
              "    <tr style=\"text-align: right;\">\n",
              "      <th></th>\n",
              "      <th>instant</th>\n",
              "      <th>dteday</th>\n",
              "      <th>season</th>\n",
              "      <th>yr</th>\n",
              "      <th>mnth</th>\n",
              "      <th>hr</th>\n",
              "      <th>holiday</th>\n",
              "      <th>weekday</th>\n",
              "      <th>workingday</th>\n",
              "      <th>weathersit</th>\n",
              "      <th>casual</th>\n",
              "      <th>registered</th>\n",
              "      <th>cnt</th>\n",
              "      <th>range_times</th>\n",
              "      <th>day_type</th>\n",
              "    </tr>\n",
              "  </thead>\n",
              "  <tbody>\n",
              "    <tr>\n",
              "      <th>663</th>\n",
              "      <td>664</td>\n",
              "      <td>2011-01-30</td>\n",
              "      <td>1</td>\n",
              "      <td>0</td>\n",
              "      <td>1</td>\n",
              "      <td>23</td>\n",
              "      <td>0</td>\n",
              "      <td>0</td>\n",
              "      <td>0</td>\n",
              "      <td>2</td>\n",
              "      <td>5</td>\n",
              "      <td>16</td>\n",
              "      <td>21</td>\n",
              "      <td>Night</td>\n",
              "      <td>Holiday</td>\n",
              "    </tr>\n",
              "    <tr>\n",
              "      <th>6147</th>\n",
              "      <td>6148</td>\n",
              "      <td>2011-09-18</td>\n",
              "      <td>3</td>\n",
              "      <td>0</td>\n",
              "      <td>9</td>\n",
              "      <td>17</td>\n",
              "      <td>0</td>\n",
              "      <td>0</td>\n",
              "      <td>0</td>\n",
              "      <td>2</td>\n",
              "      <td>95</td>\n",
              "      <td>230</td>\n",
              "      <td>325</td>\n",
              "      <td>Evening</td>\n",
              "      <td>Holiday</td>\n",
              "    </tr>\n",
              "    <tr>\n",
              "      <th>5815</th>\n",
              "      <td>5816</td>\n",
              "      <td>2011-09-04</td>\n",
              "      <td>3</td>\n",
              "      <td>0</td>\n",
              "      <td>9</td>\n",
              "      <td>18</td>\n",
              "      <td>0</td>\n",
              "      <td>0</td>\n",
              "      <td>0</td>\n",
              "      <td>1</td>\n",
              "      <td>187</td>\n",
              "      <td>169</td>\n",
              "      <td>356</td>\n",
              "      <td>Evening</td>\n",
              "      <td>Holiday</td>\n",
              "    </tr>\n",
              "    <tr>\n",
              "      <th>2804</th>\n",
              "      <td>2805</td>\n",
              "      <td>2011-05-01</td>\n",
              "      <td>2</td>\n",
              "      <td>0</td>\n",
              "      <td>5</td>\n",
              "      <td>18</td>\n",
              "      <td>0</td>\n",
              "      <td>0</td>\n",
              "      <td>0</td>\n",
              "      <td>2</td>\n",
              "      <td>33</td>\n",
              "      <td>126</td>\n",
              "      <td>159</td>\n",
              "      <td>Evening</td>\n",
              "      <td>Holiday</td>\n",
              "    </tr>\n",
              "    <tr>\n",
              "      <th>6985</th>\n",
              "      <td>6986</td>\n",
              "      <td>2011-10-23</td>\n",
              "      <td>4</td>\n",
              "      <td>0</td>\n",
              "      <td>10</td>\n",
              "      <td>16</td>\n",
              "      <td>0</td>\n",
              "      <td>0</td>\n",
              "      <td>0</td>\n",
              "      <td>1</td>\n",
              "      <td>188</td>\n",
              "      <td>217</td>\n",
              "      <td>405</td>\n",
              "      <td>Afternoon</td>\n",
              "      <td>Holiday</td>\n",
              "    </tr>\n",
              "    <tr>\n",
              "      <th>950</th>\n",
              "      <td>951</td>\n",
              "      <td>2011-02-12</td>\n",
              "      <td>1</td>\n",
              "      <td>0</td>\n",
              "      <td>2</td>\n",
              "      <td>5</td>\n",
              "      <td>0</td>\n",
              "      <td>6</td>\n",
              "      <td>0</td>\n",
              "      <td>1</td>\n",
              "      <td>0</td>\n",
              "      <td>1</td>\n",
              "      <td>1</td>\n",
              "      <td>Morning</td>\n",
              "      <td>Holiday</td>\n",
              "    </tr>\n",
              "    <tr>\n",
              "      <th>3951</th>\n",
              "      <td>3952</td>\n",
              "      <td>2011-06-18</td>\n",
              "      <td>2</td>\n",
              "      <td>0</td>\n",
              "      <td>6</td>\n",
              "      <td>13</td>\n",
              "      <td>0</td>\n",
              "      <td>6</td>\n",
              "      <td>0</td>\n",
              "      <td>1</td>\n",
              "      <td>135</td>\n",
              "      <td>192</td>\n",
              "      <td>327</td>\n",
              "      <td>Afternoon</td>\n",
              "      <td>Holiday</td>\n",
              "    </tr>\n",
              "    <tr>\n",
              "      <th>7975</th>\n",
              "      <td>7976</td>\n",
              "      <td>2011-12-03</td>\n",
              "      <td>4</td>\n",
              "      <td>0</td>\n",
              "      <td>12</td>\n",
              "      <td>23</td>\n",
              "      <td>0</td>\n",
              "      <td>6</td>\n",
              "      <td>0</td>\n",
              "      <td>1</td>\n",
              "      <td>12</td>\n",
              "      <td>73</td>\n",
              "      <td>85</td>\n",
              "      <td>Night</td>\n",
              "      <td>Holiday</td>\n",
              "    </tr>\n",
              "    <tr>\n",
              "      <th>14355</th>\n",
              "      <td>14356</td>\n",
              "      <td>2012-08-26</td>\n",
              "      <td>3</td>\n",
              "      <td>1</td>\n",
              "      <td>8</td>\n",
              "      <td>8</td>\n",
              "      <td>0</td>\n",
              "      <td>0</td>\n",
              "      <td>0</td>\n",
              "      <td>1</td>\n",
              "      <td>21</td>\n",
              "      <td>112</td>\n",
              "      <td>133</td>\n",
              "      <td>Morning</td>\n",
              "      <td>Holiday</td>\n",
              "    </tr>\n",
              "    <tr>\n",
              "      <th>4454</th>\n",
              "      <td>4455</td>\n",
              "      <td>2011-07-09</td>\n",
              "      <td>3</td>\n",
              "      <td>0</td>\n",
              "      <td>7</td>\n",
              "      <td>12</td>\n",
              "      <td>0</td>\n",
              "      <td>6</td>\n",
              "      <td>0</td>\n",
              "      <td>1</td>\n",
              "      <td>145</td>\n",
              "      <td>221</td>\n",
              "      <td>366</td>\n",
              "      <td>Afternoon</td>\n",
              "      <td>Holiday</td>\n",
              "    </tr>\n",
              "  </tbody>\n",
              "</table>\n",
              "</div>"
            ],
            "text/plain": [
              "       instant     dteday  season  yr  mnth  hr  holiday  weekday  workingday  \\\n",
              "663        664 2011-01-30       1   0     1  23        0        0           0   \n",
              "6147      6148 2011-09-18       3   0     9  17        0        0           0   \n",
              "5815      5816 2011-09-04       3   0     9  18        0        0           0   \n",
              "2804      2805 2011-05-01       2   0     5  18        0        0           0   \n",
              "6985      6986 2011-10-23       4   0    10  16        0        0           0   \n",
              "950        951 2011-02-12       1   0     2   5        0        6           0   \n",
              "3951      3952 2011-06-18       2   0     6  13        0        6           0   \n",
              "7975      7976 2011-12-03       4   0    12  23        0        6           0   \n",
              "14355    14356 2012-08-26       3   1     8   8        0        0           0   \n",
              "4454      4455 2011-07-09       3   0     7  12        0        6           0   \n",
              "\n",
              "       weathersit  casual  registered  cnt range_times day_type  \n",
              "663             2       5          16   21       Night  Holiday  \n",
              "6147            2      95         230  325     Evening  Holiday  \n",
              "5815            1     187         169  356     Evening  Holiday  \n",
              "2804            2      33         126  159     Evening  Holiday  \n",
              "6985            1     188         217  405   Afternoon  Holiday  \n",
              "950             1       0           1    1     Morning  Holiday  \n",
              "3951            1     135         192  327   Afternoon  Holiday  \n",
              "7975            1      12          73   85       Night  Holiday  \n",
              "14355           1      21         112  133     Morning  Holiday  \n",
              "4454            1     145         221  366   Afternoon  Holiday  "
            ]
          },
          "execution_count": 37,
          "metadata": {},
          "output_type": "execute_result"
        }
      ],
      "source": [
        "# Cek data weekend\n",
        "hoursDf[hoursDf['day_type'] == 'Holiday'].sample(10)"
      ]
    },
    {
      "cell_type": "code",
      "execution_count": 38,
      "metadata": {
        "colab": {
          "base_uri": "https://localhost:8080/",
          "height": 363
        },
        "id": "ND_jYtbob7sZ",
        "outputId": "bfaa370d-1a70-4147-acbf-bef675b5059f"
      },
      "outputs": [
        {
          "data": {
            "text/html": [
              "<div>\n",
              "<style scoped>\n",
              "    .dataframe tbody tr th:only-of-type {\n",
              "        vertical-align: middle;\n",
              "    }\n",
              "\n",
              "    .dataframe tbody tr th {\n",
              "        vertical-align: top;\n",
              "    }\n",
              "\n",
              "    .dataframe thead th {\n",
              "        text-align: right;\n",
              "    }\n",
              "</style>\n",
              "<table border=\"1\" class=\"dataframe\">\n",
              "  <thead>\n",
              "    <tr style=\"text-align: right;\">\n",
              "      <th></th>\n",
              "      <th>instant</th>\n",
              "      <th>dteday</th>\n",
              "      <th>season</th>\n",
              "      <th>yr</th>\n",
              "      <th>mnth</th>\n",
              "      <th>hr</th>\n",
              "      <th>holiday</th>\n",
              "      <th>weekday</th>\n",
              "      <th>workingday</th>\n",
              "      <th>weathersit</th>\n",
              "      <th>casual</th>\n",
              "      <th>registered</th>\n",
              "      <th>cnt</th>\n",
              "      <th>range_times</th>\n",
              "      <th>day_type</th>\n",
              "    </tr>\n",
              "  </thead>\n",
              "  <tbody>\n",
              "    <tr>\n",
              "      <th>14949</th>\n",
              "      <td>14950</td>\n",
              "      <td>2012-09-20</td>\n",
              "      <td>3</td>\n",
              "      <td>1</td>\n",
              "      <td>9</td>\n",
              "      <td>2</td>\n",
              "      <td>0</td>\n",
              "      <td>4</td>\n",
              "      <td>1</td>\n",
              "      <td>1</td>\n",
              "      <td>2</td>\n",
              "      <td>9</td>\n",
              "      <td>11</td>\n",
              "      <td>Dawn</td>\n",
              "      <td>Working Day</td>\n",
              "    </tr>\n",
              "    <tr>\n",
              "      <th>5676</th>\n",
              "      <td>5677</td>\n",
              "      <td>2011-08-29</td>\n",
              "      <td>3</td>\n",
              "      <td>0</td>\n",
              "      <td>8</td>\n",
              "      <td>23</td>\n",
              "      <td>0</td>\n",
              "      <td>1</td>\n",
              "      <td>1</td>\n",
              "      <td>1</td>\n",
              "      <td>19</td>\n",
              "      <td>56</td>\n",
              "      <td>75</td>\n",
              "      <td>Night</td>\n",
              "      <td>Working Day</td>\n",
              "    </tr>\n",
              "    <tr>\n",
              "      <th>4423</th>\n",
              "      <td>4424</td>\n",
              "      <td>2011-07-08</td>\n",
              "      <td>3</td>\n",
              "      <td>0</td>\n",
              "      <td>7</td>\n",
              "      <td>5</td>\n",
              "      <td>0</td>\n",
              "      <td>5</td>\n",
              "      <td>1</td>\n",
              "      <td>1</td>\n",
              "      <td>3</td>\n",
              "      <td>24</td>\n",
              "      <td>27</td>\n",
              "      <td>Morning</td>\n",
              "      <td>Working Day</td>\n",
              "    </tr>\n",
              "    <tr>\n",
              "      <th>14729</th>\n",
              "      <td>14730</td>\n",
              "      <td>2012-09-10</td>\n",
              "      <td>3</td>\n",
              "      <td>1</td>\n",
              "      <td>9</td>\n",
              "      <td>22</td>\n",
              "      <td>0</td>\n",
              "      <td>1</td>\n",
              "      <td>1</td>\n",
              "      <td>1</td>\n",
              "      <td>15</td>\n",
              "      <td>144</td>\n",
              "      <td>159</td>\n",
              "      <td>Night</td>\n",
              "      <td>Working Day</td>\n",
              "    </tr>\n",
              "    <tr>\n",
              "      <th>4658</th>\n",
              "      <td>4659</td>\n",
              "      <td>2011-07-18</td>\n",
              "      <td>3</td>\n",
              "      <td>0</td>\n",
              "      <td>7</td>\n",
              "      <td>0</td>\n",
              "      <td>0</td>\n",
              "      <td>1</td>\n",
              "      <td>1</td>\n",
              "      <td>1</td>\n",
              "      <td>21</td>\n",
              "      <td>30</td>\n",
              "      <td>51</td>\n",
              "      <td>Dawn</td>\n",
              "      <td>Working Day</td>\n",
              "    </tr>\n",
              "    <tr>\n",
              "      <th>3234</th>\n",
              "      <td>3235</td>\n",
              "      <td>2011-05-19</td>\n",
              "      <td>2</td>\n",
              "      <td>0</td>\n",
              "      <td>5</td>\n",
              "      <td>16</td>\n",
              "      <td>0</td>\n",
              "      <td>4</td>\n",
              "      <td>1</td>\n",
              "      <td>1</td>\n",
              "      <td>55</td>\n",
              "      <td>247</td>\n",
              "      <td>302</td>\n",
              "      <td>Afternoon</td>\n",
              "      <td>Working Day</td>\n",
              "    </tr>\n",
              "    <tr>\n",
              "      <th>6549</th>\n",
              "      <td>6550</td>\n",
              "      <td>2011-10-05</td>\n",
              "      <td>4</td>\n",
              "      <td>0</td>\n",
              "      <td>10</td>\n",
              "      <td>11</td>\n",
              "      <td>0</td>\n",
              "      <td>3</td>\n",
              "      <td>1</td>\n",
              "      <td>1</td>\n",
              "      <td>32</td>\n",
              "      <td>138</td>\n",
              "      <td>170</td>\n",
              "      <td>Afternoon</td>\n",
              "      <td>Working Day</td>\n",
              "    </tr>\n",
              "    <tr>\n",
              "      <th>13793</th>\n",
              "      <td>13794</td>\n",
              "      <td>2012-08-02</td>\n",
              "      <td>3</td>\n",
              "      <td>1</td>\n",
              "      <td>8</td>\n",
              "      <td>22</td>\n",
              "      <td>0</td>\n",
              "      <td>4</td>\n",
              "      <td>1</td>\n",
              "      <td>1</td>\n",
              "      <td>35</td>\n",
              "      <td>227</td>\n",
              "      <td>262</td>\n",
              "      <td>Night</td>\n",
              "      <td>Working Day</td>\n",
              "    </tr>\n",
              "    <tr>\n",
              "      <th>16243</th>\n",
              "      <td>16244</td>\n",
              "      <td>2012-11-14</td>\n",
              "      <td>4</td>\n",
              "      <td>1</td>\n",
              "      <td>11</td>\n",
              "      <td>13</td>\n",
              "      <td>0</td>\n",
              "      <td>3</td>\n",
              "      <td>1</td>\n",
              "      <td>1</td>\n",
              "      <td>32</td>\n",
              "      <td>182</td>\n",
              "      <td>214</td>\n",
              "      <td>Afternoon</td>\n",
              "      <td>Working Day</td>\n",
              "    </tr>\n",
              "    <tr>\n",
              "      <th>15119</th>\n",
              "      <td>15120</td>\n",
              "      <td>2012-09-27</td>\n",
              "      <td>4</td>\n",
              "      <td>1</td>\n",
              "      <td>9</td>\n",
              "      <td>4</td>\n",
              "      <td>0</td>\n",
              "      <td>4</td>\n",
              "      <td>1</td>\n",
              "      <td>1</td>\n",
              "      <td>2</td>\n",
              "      <td>6</td>\n",
              "      <td>8</td>\n",
              "      <td>Morning</td>\n",
              "      <td>Working Day</td>\n",
              "    </tr>\n",
              "  </tbody>\n",
              "</table>\n",
              "</div>"
            ],
            "text/plain": [
              "       instant     dteday  season  yr  mnth  hr  holiday  weekday  workingday  \\\n",
              "14949    14950 2012-09-20       3   1     9   2        0        4           1   \n",
              "5676      5677 2011-08-29       3   0     8  23        0        1           1   \n",
              "4423      4424 2011-07-08       3   0     7   5        0        5           1   \n",
              "14729    14730 2012-09-10       3   1     9  22        0        1           1   \n",
              "4658      4659 2011-07-18       3   0     7   0        0        1           1   \n",
              "3234      3235 2011-05-19       2   0     5  16        0        4           1   \n",
              "6549      6550 2011-10-05       4   0    10  11        0        3           1   \n",
              "13793    13794 2012-08-02       3   1     8  22        0        4           1   \n",
              "16243    16244 2012-11-14       4   1    11  13        0        3           1   \n",
              "15119    15120 2012-09-27       4   1     9   4        0        4           1   \n",
              "\n",
              "       weathersit  casual  registered  cnt range_times     day_type  \n",
              "14949           1       2           9   11        Dawn  Working Day  \n",
              "5676            1      19          56   75       Night  Working Day  \n",
              "4423            1       3          24   27     Morning  Working Day  \n",
              "14729           1      15         144  159       Night  Working Day  \n",
              "4658            1      21          30   51        Dawn  Working Day  \n",
              "3234            1      55         247  302   Afternoon  Working Day  \n",
              "6549            1      32         138  170   Afternoon  Working Day  \n",
              "13793           1      35         227  262       Night  Working Day  \n",
              "16243           1      32         182  214   Afternoon  Working Day  \n",
              "15119           1       2           6    8     Morning  Working Day  "
            ]
          },
          "execution_count": 38,
          "metadata": {},
          "output_type": "execute_result"
        }
      ],
      "source": [
        "# Cek data weekday\n",
        "hoursDf[hoursDf['day_type'] == 'Working Day'].sample(10)"
      ]
    },
    {
      "cell_type": "markdown",
      "metadata": {
        "id": "iZvr-tzFEg8t"
      },
      "source": [
        "### Melakukan Pivot Table pada Day Type dan cnt"
      ]
    },
    {
      "cell_type": "code",
      "execution_count": 39,
      "metadata": {
        "colab": {
          "base_uri": "https://localhost:8080/",
          "height": 174
        },
        "id": "Z65n_Y4lEq--",
        "outputId": "289ebac2-a0a9-4cdb-a023-50321bd036d2"
      },
      "outputs": [
        {
          "data": {
            "text/html": [
              "<div>\n",
              "<style scoped>\n",
              "    .dataframe tbody tr th:only-of-type {\n",
              "        vertical-align: middle;\n",
              "    }\n",
              "\n",
              "    .dataframe tbody tr th {\n",
              "        vertical-align: top;\n",
              "    }\n",
              "\n",
              "    .dataframe thead tr th {\n",
              "        text-align: left;\n",
              "    }\n",
              "\n",
              "    .dataframe thead tr:last-of-type th {\n",
              "        text-align: right;\n",
              "    }\n",
              "</style>\n",
              "<table border=\"1\" class=\"dataframe\">\n",
              "  <thead>\n",
              "    <tr>\n",
              "      <th></th>\n",
              "      <th colspan=\"4\" halign=\"left\">cnt</th>\n",
              "    </tr>\n",
              "    <tr>\n",
              "      <th></th>\n",
              "      <th>mean</th>\n",
              "      <th>min</th>\n",
              "      <th>max</th>\n",
              "      <th>sum</th>\n",
              "    </tr>\n",
              "    <tr>\n",
              "      <th>day_type</th>\n",
              "      <th></th>\n",
              "      <th></th>\n",
              "      <th></th>\n",
              "      <th></th>\n",
              "    </tr>\n",
              "  </thead>\n",
              "  <tbody>\n",
              "    <tr>\n",
              "      <th>Holiday</th>\n",
              "      <td>183.852014</td>\n",
              "      <td>1</td>\n",
              "      <td>783</td>\n",
              "      <td>921834</td>\n",
              "    </tr>\n",
              "    <tr>\n",
              "      <th>Working Day</th>\n",
              "      <td>191.738374</td>\n",
              "      <td>1</td>\n",
              "      <td>977</td>\n",
              "      <td>2370845</td>\n",
              "    </tr>\n",
              "  </tbody>\n",
              "</table>\n",
              "</div>"
            ],
            "text/plain": [
              "                    cnt                  \n",
              "                   mean min  max      sum\n",
              "day_type                                 \n",
              "Holiday      183.852014   1  783   921834\n",
              "Working Day  191.738374   1  977  2370845"
            ]
          },
          "execution_count": 39,
          "metadata": {},
          "output_type": "execute_result"
        }
      ],
      "source": [
        "# Melakukan pivot table berdasarkan tipe hari\n",
        "groupedByDayType = hoursDf.groupby('day_type').agg({\n",
        "    'cnt': ['mean', 'min', 'max', 'sum']\n",
        "})\n",
        "\n",
        "groupedByDayType"
      ]
    },
    {
      "cell_type": "code",
      "execution_count": 40,
      "metadata": {
        "colab": {
          "base_uri": "https://localhost:8080/",
          "height": 174
        },
        "id": "_sms-JglJGn_",
        "outputId": "f5730709-ab52-4152-dd19-418953ade698"
      },
      "outputs": [
        {
          "data": {
            "text/html": [
              "<div>\n",
              "<style scoped>\n",
              "    .dataframe tbody tr th:only-of-type {\n",
              "        vertical-align: middle;\n",
              "    }\n",
              "\n",
              "    .dataframe tbody tr th {\n",
              "        vertical-align: top;\n",
              "    }\n",
              "\n",
              "    .dataframe thead tr th {\n",
              "        text-align: left;\n",
              "    }\n",
              "\n",
              "    .dataframe thead tr:last-of-type th {\n",
              "        text-align: right;\n",
              "    }\n",
              "</style>\n",
              "<table border=\"1\" class=\"dataframe\">\n",
              "  <thead>\n",
              "    <tr>\n",
              "      <th></th>\n",
              "      <th colspan=\"4\" halign=\"left\">cnt</th>\n",
              "    </tr>\n",
              "    <tr>\n",
              "      <th></th>\n",
              "      <th>mean</th>\n",
              "      <th>min</th>\n",
              "      <th>max</th>\n",
              "      <th>sum</th>\n",
              "    </tr>\n",
              "    <tr>\n",
              "      <th>day_type</th>\n",
              "      <th></th>\n",
              "      <th></th>\n",
              "      <th></th>\n",
              "      <th></th>\n",
              "    </tr>\n",
              "  </thead>\n",
              "  <tbody>\n",
              "    <tr>\n",
              "      <th>Holiday</th>\n",
              "      <td>184</td>\n",
              "      <td>1</td>\n",
              "      <td>783</td>\n",
              "      <td>921834</td>\n",
              "    </tr>\n",
              "    <tr>\n",
              "      <th>Working Day</th>\n",
              "      <td>192</td>\n",
              "      <td>1</td>\n",
              "      <td>977</td>\n",
              "      <td>2370845</td>\n",
              "    </tr>\n",
              "  </tbody>\n",
              "</table>\n",
              "</div>"
            ],
            "text/plain": [
              "             cnt                  \n",
              "            mean min  max      sum\n",
              "day_type                          \n",
              "Holiday      184   1  783   921834\n",
              "Working Day  192   1  977  2370845"
            ]
          },
          "execution_count": 40,
          "metadata": {},
          "output_type": "execute_result"
        }
      ],
      "source": [
        "# Membulatkan hasil rata-rata dari kolom count\n",
        "groupedByDayType[('cnt', 'mean')] = groupedByDayType[('cnt', 'mean')].round().astype(int)\n",
        "groupedByDayType"
      ]
    },
    {
      "cell_type": "markdown",
      "metadata": {
        "id": "8yNlt8cmFoQ0"
      },
      "source": [
        "Jawab:\n",
        "\n",
        "Dari hasil pivot table di atas, dapat disimpulkan bahwa peminjam sepeda lebih banyak melakukan peminjaman pada **Hari Kerja** dengan total banyak peminjaman adalah **2370845** peminjaman."
      ]
    },
    {
      "cell_type": "markdown",
      "metadata": {
        "id": "G5s91kSBNdct"
      },
      "source": [
        "## Menjawab Pertanyaan 3"
      ]
    },
    {
      "cell_type": "markdown",
      "metadata": {
        "id": "viDqFC0EPVQN"
      },
      "source": [
        "Pada penjelasan dataset, kolom weathersit terdiri dari nilai-nilai berikut:\n",
        "\n",
        "1.  Cerah, Sedikit awan, Berawan sebagian\n",
        "2.  Kabut dan Berawan, Kabut dan Awan pecah, Kabut dan Sedikit awan, Kabut\n",
        "3.  Salju Ringan, Hujan Ringan, Badai Petir dan awan Tersebar, Hujan Ringan dan Awan Tersebar\n",
        "4.  Hujan Lebat dan Pelet Es serta Sebagian Besar Badai Petir, Salju dan Kabut"
      ]
    },
    {
      "cell_type": "markdown",
      "metadata": {
        "id": "gD52dhOySLtL"
      },
      "source": [
        "### Membuat Kolom Untuk Cuaca"
      ]
    },
    {
      "cell_type": "code",
      "execution_count": 41,
      "metadata": {
        "colab": {
          "base_uri": "https://localhost:8080/",
          "height": 519
        },
        "id": "heuw_61wQmHQ",
        "outputId": "39103971-1d6c-45c7-8fc9-298e8c592fae"
      },
      "outputs": [
        {
          "data": {
            "text/html": [
              "<div>\n",
              "<style scoped>\n",
              "    .dataframe tbody tr th:only-of-type {\n",
              "        vertical-align: middle;\n",
              "    }\n",
              "\n",
              "    .dataframe tbody tr th {\n",
              "        vertical-align: top;\n",
              "    }\n",
              "\n",
              "    .dataframe thead th {\n",
              "        text-align: right;\n",
              "    }\n",
              "</style>\n",
              "<table border=\"1\" class=\"dataframe\">\n",
              "  <thead>\n",
              "    <tr style=\"text-align: right;\">\n",
              "      <th></th>\n",
              "      <th>instant</th>\n",
              "      <th>dteday</th>\n",
              "      <th>season</th>\n",
              "      <th>yr</th>\n",
              "      <th>mnth</th>\n",
              "      <th>hr</th>\n",
              "      <th>holiday</th>\n",
              "      <th>weekday</th>\n",
              "      <th>workingday</th>\n",
              "      <th>weathersit</th>\n",
              "      <th>casual</th>\n",
              "      <th>registered</th>\n",
              "      <th>cnt</th>\n",
              "      <th>range_times</th>\n",
              "      <th>day_type</th>\n",
              "      <th>weather_situation</th>\n",
              "    </tr>\n",
              "  </thead>\n",
              "  <tbody>\n",
              "    <tr>\n",
              "      <th>14016</th>\n",
              "      <td>14017</td>\n",
              "      <td>2012-08-12</td>\n",
              "      <td>3</td>\n",
              "      <td>1</td>\n",
              "      <td>8</td>\n",
              "      <td>5</td>\n",
              "      <td>0</td>\n",
              "      <td>0</td>\n",
              "      <td>0</td>\n",
              "      <td>1</td>\n",
              "      <td>1</td>\n",
              "      <td>9</td>\n",
              "      <td>10</td>\n",
              "      <td>Morning</td>\n",
              "      <td>Holiday</td>\n",
              "      <td>Clearly</td>\n",
              "    </tr>\n",
              "    <tr>\n",
              "      <th>10761</th>\n",
              "      <td>10762</td>\n",
              "      <td>2012-03-29</td>\n",
              "      <td>2</td>\n",
              "      <td>1</td>\n",
              "      <td>3</td>\n",
              "      <td>12</td>\n",
              "      <td>0</td>\n",
              "      <td>4</td>\n",
              "      <td>1</td>\n",
              "      <td>1</td>\n",
              "      <td>64</td>\n",
              "      <td>228</td>\n",
              "      <td>292</td>\n",
              "      <td>Afternoon</td>\n",
              "      <td>Working Day</td>\n",
              "      <td>Clearly</td>\n",
              "    </tr>\n",
              "    <tr>\n",
              "      <th>8630</th>\n",
              "      <td>8631</td>\n",
              "      <td>2011-12-31</td>\n",
              "      <td>1</td>\n",
              "      <td>0</td>\n",
              "      <td>12</td>\n",
              "      <td>9</td>\n",
              "      <td>0</td>\n",
              "      <td>6</td>\n",
              "      <td>0</td>\n",
              "      <td>1</td>\n",
              "      <td>18</td>\n",
              "      <td>72</td>\n",
              "      <td>90</td>\n",
              "      <td>Morning</td>\n",
              "      <td>Holiday</td>\n",
              "      <td>Clearly</td>\n",
              "    </tr>\n",
              "    <tr>\n",
              "      <th>10936</th>\n",
              "      <td>10937</td>\n",
              "      <td>2012-04-05</td>\n",
              "      <td>2</td>\n",
              "      <td>1</td>\n",
              "      <td>4</td>\n",
              "      <td>20</td>\n",
              "      <td>0</td>\n",
              "      <td>4</td>\n",
              "      <td>1</td>\n",
              "      <td>1</td>\n",
              "      <td>33</td>\n",
              "      <td>279</td>\n",
              "      <td>312</td>\n",
              "      <td>Night</td>\n",
              "      <td>Working Day</td>\n",
              "      <td>Clearly</td>\n",
              "    </tr>\n",
              "    <tr>\n",
              "      <th>10897</th>\n",
              "      <td>10898</td>\n",
              "      <td>2012-04-04</td>\n",
              "      <td>2</td>\n",
              "      <td>1</td>\n",
              "      <td>4</td>\n",
              "      <td>5</td>\n",
              "      <td>0</td>\n",
              "      <td>3</td>\n",
              "      <td>1</td>\n",
              "      <td>1</td>\n",
              "      <td>0</td>\n",
              "      <td>27</td>\n",
              "      <td>27</td>\n",
              "      <td>Morning</td>\n",
              "      <td>Working Day</td>\n",
              "      <td>Clearly</td>\n",
              "    </tr>\n",
              "    <tr>\n",
              "      <th>13503</th>\n",
              "      <td>13504</td>\n",
              "      <td>2012-07-21</td>\n",
              "      <td>3</td>\n",
              "      <td>1</td>\n",
              "      <td>7</td>\n",
              "      <td>20</td>\n",
              "      <td>0</td>\n",
              "      <td>6</td>\n",
              "      <td>0</td>\n",
              "      <td>3</td>\n",
              "      <td>51</td>\n",
              "      <td>163</td>\n",
              "      <td>214</td>\n",
              "      <td>Night</td>\n",
              "      <td>Holiday</td>\n",
              "      <td>Rainy or Snowy</td>\n",
              "    </tr>\n",
              "    <tr>\n",
              "      <th>502</th>\n",
              "      <td>503</td>\n",
              "      <td>2011-01-23</td>\n",
              "      <td>1</td>\n",
              "      <td>0</td>\n",
              "      <td>1</td>\n",
              "      <td>0</td>\n",
              "      <td>0</td>\n",
              "      <td>0</td>\n",
              "      <td>0</td>\n",
              "      <td>1</td>\n",
              "      <td>2</td>\n",
              "      <td>20</td>\n",
              "      <td>22</td>\n",
              "      <td>Dawn</td>\n",
              "      <td>Holiday</td>\n",
              "      <td>Clearly</td>\n",
              "    </tr>\n",
              "    <tr>\n",
              "      <th>4348</th>\n",
              "      <td>4349</td>\n",
              "      <td>2011-07-05</td>\n",
              "      <td>3</td>\n",
              "      <td>0</td>\n",
              "      <td>7</td>\n",
              "      <td>2</td>\n",
              "      <td>0</td>\n",
              "      <td>2</td>\n",
              "      <td>1</td>\n",
              "      <td>1</td>\n",
              "      <td>8</td>\n",
              "      <td>5</td>\n",
              "      <td>13</td>\n",
              "      <td>Dawn</td>\n",
              "      <td>Working Day</td>\n",
              "      <td>Clearly</td>\n",
              "    </tr>\n",
              "    <tr>\n",
              "      <th>1799</th>\n",
              "      <td>1800</td>\n",
              "      <td>2011-03-20</td>\n",
              "      <td>1</td>\n",
              "      <td>0</td>\n",
              "      <td>3</td>\n",
              "      <td>16</td>\n",
              "      <td>0</td>\n",
              "      <td>0</td>\n",
              "      <td>0</td>\n",
              "      <td>1</td>\n",
              "      <td>92</td>\n",
              "      <td>132</td>\n",
              "      <td>224</td>\n",
              "      <td>Afternoon</td>\n",
              "      <td>Holiday</td>\n",
              "      <td>Clearly</td>\n",
              "    </tr>\n",
              "    <tr>\n",
              "      <th>6764</th>\n",
              "      <td>6765</td>\n",
              "      <td>2011-10-14</td>\n",
              "      <td>4</td>\n",
              "      <td>0</td>\n",
              "      <td>10</td>\n",
              "      <td>10</td>\n",
              "      <td>0</td>\n",
              "      <td>5</td>\n",
              "      <td>1</td>\n",
              "      <td>3</td>\n",
              "      <td>17</td>\n",
              "      <td>108</td>\n",
              "      <td>125</td>\n",
              "      <td>Morning</td>\n",
              "      <td>Working Day</td>\n",
              "      <td>Rainy or Snowy</td>\n",
              "    </tr>\n",
              "    <tr>\n",
              "      <th>7391</th>\n",
              "      <td>7392</td>\n",
              "      <td>2011-11-09</td>\n",
              "      <td>4</td>\n",
              "      <td>0</td>\n",
              "      <td>11</td>\n",
              "      <td>14</td>\n",
              "      <td>0</td>\n",
              "      <td>3</td>\n",
              "      <td>1</td>\n",
              "      <td>1</td>\n",
              "      <td>26</td>\n",
              "      <td>153</td>\n",
              "      <td>179</td>\n",
              "      <td>Afternoon</td>\n",
              "      <td>Working Day</td>\n",
              "      <td>Clearly</td>\n",
              "    </tr>\n",
              "    <tr>\n",
              "      <th>304</th>\n",
              "      <td>305</td>\n",
              "      <td>2011-01-14</td>\n",
              "      <td>1</td>\n",
              "      <td>0</td>\n",
              "      <td>1</td>\n",
              "      <td>3</td>\n",
              "      <td>0</td>\n",
              "      <td>5</td>\n",
              "      <td>1</td>\n",
              "      <td>1</td>\n",
              "      <td>0</td>\n",
              "      <td>1</td>\n",
              "      <td>1</td>\n",
              "      <td>Dawn</td>\n",
              "      <td>Working Day</td>\n",
              "      <td>Clearly</td>\n",
              "    </tr>\n",
              "    <tr>\n",
              "      <th>15103</th>\n",
              "      <td>15104</td>\n",
              "      <td>2012-09-26</td>\n",
              "      <td>4</td>\n",
              "      <td>1</td>\n",
              "      <td>9</td>\n",
              "      <td>12</td>\n",
              "      <td>0</td>\n",
              "      <td>3</td>\n",
              "      <td>1</td>\n",
              "      <td>1</td>\n",
              "      <td>56</td>\n",
              "      <td>260</td>\n",
              "      <td>316</td>\n",
              "      <td>Afternoon</td>\n",
              "      <td>Working Day</td>\n",
              "      <td>Clearly</td>\n",
              "    </tr>\n",
              "    <tr>\n",
              "      <th>5817</th>\n",
              "      <td>5818</td>\n",
              "      <td>2011-09-04</td>\n",
              "      <td>3</td>\n",
              "      <td>0</td>\n",
              "      <td>9</td>\n",
              "      <td>20</td>\n",
              "      <td>0</td>\n",
              "      <td>0</td>\n",
              "      <td>0</td>\n",
              "      <td>1</td>\n",
              "      <td>104</td>\n",
              "      <td>125</td>\n",
              "      <td>229</td>\n",
              "      <td>Night</td>\n",
              "      <td>Holiday</td>\n",
              "      <td>Clearly</td>\n",
              "    </tr>\n",
              "    <tr>\n",
              "      <th>13699</th>\n",
              "      <td>13700</td>\n",
              "      <td>2012-07-30</td>\n",
              "      <td>3</td>\n",
              "      <td>1</td>\n",
              "      <td>7</td>\n",
              "      <td>0</td>\n",
              "      <td>0</td>\n",
              "      <td>1</td>\n",
              "      <td>1</td>\n",
              "      <td>1</td>\n",
              "      <td>12</td>\n",
              "      <td>46</td>\n",
              "      <td>58</td>\n",
              "      <td>Dawn</td>\n",
              "      <td>Working Day</td>\n",
              "      <td>Clearly</td>\n",
              "    </tr>\n",
              "  </tbody>\n",
              "</table>\n",
              "</div>"
            ],
            "text/plain": [
              "       instant     dteday  season  yr  mnth  hr  holiday  weekday  workingday  \\\n",
              "14016    14017 2012-08-12       3   1     8   5        0        0           0   \n",
              "10761    10762 2012-03-29       2   1     3  12        0        4           1   \n",
              "8630      8631 2011-12-31       1   0    12   9        0        6           0   \n",
              "10936    10937 2012-04-05       2   1     4  20        0        4           1   \n",
              "10897    10898 2012-04-04       2   1     4   5        0        3           1   \n",
              "13503    13504 2012-07-21       3   1     7  20        0        6           0   \n",
              "502        503 2011-01-23       1   0     1   0        0        0           0   \n",
              "4348      4349 2011-07-05       3   0     7   2        0        2           1   \n",
              "1799      1800 2011-03-20       1   0     3  16        0        0           0   \n",
              "6764      6765 2011-10-14       4   0    10  10        0        5           1   \n",
              "7391      7392 2011-11-09       4   0    11  14        0        3           1   \n",
              "304        305 2011-01-14       1   0     1   3        0        5           1   \n",
              "15103    15104 2012-09-26       4   1     9  12        0        3           1   \n",
              "5817      5818 2011-09-04       3   0     9  20        0        0           0   \n",
              "13699    13700 2012-07-30       3   1     7   0        0        1           1   \n",
              "\n",
              "       weathersit  casual  registered  cnt range_times     day_type  \\\n",
              "14016           1       1           9   10     Morning      Holiday   \n",
              "10761           1      64         228  292   Afternoon  Working Day   \n",
              "8630            1      18          72   90     Morning      Holiday   \n",
              "10936           1      33         279  312       Night  Working Day   \n",
              "10897           1       0          27   27     Morning  Working Day   \n",
              "13503           3      51         163  214       Night      Holiday   \n",
              "502             1       2          20   22        Dawn      Holiday   \n",
              "4348            1       8           5   13        Dawn  Working Day   \n",
              "1799            1      92         132  224   Afternoon      Holiday   \n",
              "6764            3      17         108  125     Morning  Working Day   \n",
              "7391            1      26         153  179   Afternoon  Working Day   \n",
              "304             1       0           1    1        Dawn  Working Day   \n",
              "15103           1      56         260  316   Afternoon  Working Day   \n",
              "5817            1     104         125  229       Night      Holiday   \n",
              "13699           1      12          46   58        Dawn  Working Day   \n",
              "\n",
              "      weather_situation  \n",
              "14016           Clearly  \n",
              "10761           Clearly  \n",
              "8630            Clearly  \n",
              "10936           Clearly  \n",
              "10897           Clearly  \n",
              "13503    Rainy or Snowy  \n",
              "502             Clearly  \n",
              "4348            Clearly  \n",
              "1799            Clearly  \n",
              "6764     Rainy or Snowy  \n",
              "7391            Clearly  \n",
              "304             Clearly  \n",
              "15103           Clearly  \n",
              "5817            Clearly  \n",
              "13699           Clearly  "
            ]
          },
          "execution_count": 41,
          "metadata": {},
          "output_type": "execute_result"
        }
      ],
      "source": [
        "# Membuat fungsi mapping\n",
        "def weathSit(x):\n",
        "  if x == 1:\n",
        "    return 'Clearly'\n",
        "  elif x == 2:\n",
        "    return 'Misty'\n",
        "  elif x == 3:\n",
        "    return 'Rainy or Snowy'\n",
        "  elif x == 4:\n",
        "    return 'Heavy Rain or Snow'\n",
        "\n",
        "# Mengapply fungsi situasi cuaca ke kolom baru\n",
        "hoursDf['weather_situation'] = hoursDf['weathersit'].apply(weathSit)\n",
        "hoursDf.sample(15)"
      ]
    },
    {
      "cell_type": "markdown",
      "metadata": {
        "id": "CsLPrNhZVmoN"
      },
      "source": [
        "### Melakukan Pivot Table pada weather_situation dan cnt"
      ]
    },
    {
      "cell_type": "code",
      "execution_count": 42,
      "metadata": {
        "colab": {
          "base_uri": "https://localhost:8080/"
        },
        "id": "w5tAKnNdWqHZ",
        "outputId": "1f02d1e0-0da6-4700-cc83-80aa1086d15b"
      },
      "outputs": [
        {
          "data": {
            "text/plain": [
              "weather_situation\n",
              "Clearly               11413\n",
              "Misty                  4544\n",
              "Rainy or Snowy         1419\n",
              "Heavy Rain or Snow        3\n",
              "Name: cnt, dtype: int64"
            ]
          },
          "execution_count": 42,
          "metadata": {},
          "output_type": "execute_result"
        }
      ],
      "source": [
        "groupedByWeather = hoursDf.groupby('weather_situation').cnt.count().sort_values(ascending=False)\n",
        "groupedByWeather"
      ]
    },
    {
      "cell_type": "markdown",
      "metadata": {
        "id": "fXY7ljnJc_oS"
      },
      "source": [
        "Jawab :\n",
        "\n",
        "Dari pivot table di atas, dapat disimpulkan bahwa cuaca dengan banyak peminjam sepeda tertinggi adalah ketika cuaca sedang **Cerah** dengan total peminjam adalah **11413**"
      ]
    },
    {
      "cell_type": "markdown",
      "metadata": {
        "id": "7wF-j63deA9e"
      },
      "source": [
        "## Menjawab Pertanyaan 4\n",
        "\n",
        "Pada penjelasan dataset, kolom season memiliki pembagian sebagai berikut:\n",
        "1. Musim Semi\n",
        "2. Musim Panas\n",
        "3. Musim Gugur\n",
        "4. Musim Salju"
      ]
    },
    {
      "cell_type": "markdown",
      "metadata": {
        "id": "_VNSlECVekIx"
      },
      "source": [
        "### Membuat Kolom untuk Musim"
      ]
    },
    {
      "cell_type": "code",
      "execution_count": 43,
      "metadata": {
        "colab": {
          "base_uri": "https://localhost:8080/",
          "height": 800
        },
        "id": "BTnjejxdejzB",
        "outputId": "4686e17f-5896-40d4-d4da-cd061acd8d4a"
      },
      "outputs": [
        {
          "data": {
            "text/html": [
              "<div>\n",
              "<style scoped>\n",
              "    .dataframe tbody tr th:only-of-type {\n",
              "        vertical-align: middle;\n",
              "    }\n",
              "\n",
              "    .dataframe tbody tr th {\n",
              "        vertical-align: top;\n",
              "    }\n",
              "\n",
              "    .dataframe thead th {\n",
              "        text-align: right;\n",
              "    }\n",
              "</style>\n",
              "<table border=\"1\" class=\"dataframe\">\n",
              "  <thead>\n",
              "    <tr style=\"text-align: right;\">\n",
              "      <th></th>\n",
              "      <th>instant</th>\n",
              "      <th>dteday</th>\n",
              "      <th>season</th>\n",
              "      <th>yr</th>\n",
              "      <th>mnth</th>\n",
              "      <th>hr</th>\n",
              "      <th>holiday</th>\n",
              "      <th>weekday</th>\n",
              "      <th>workingday</th>\n",
              "      <th>weathersit</th>\n",
              "      <th>casual</th>\n",
              "      <th>registered</th>\n",
              "      <th>cnt</th>\n",
              "      <th>range_times</th>\n",
              "      <th>day_type</th>\n",
              "      <th>weather_situation</th>\n",
              "      <th>season_type</th>\n",
              "    </tr>\n",
              "  </thead>\n",
              "  <tbody>\n",
              "    <tr>\n",
              "      <th>11619</th>\n",
              "      <td>11620</td>\n",
              "      <td>2012-05-04</td>\n",
              "      <td>2</td>\n",
              "      <td>1</td>\n",
              "      <td>5</td>\n",
              "      <td>8</td>\n",
              "      <td>0</td>\n",
              "      <td>5</td>\n",
              "      <td>1</td>\n",
              "      <td>1</td>\n",
              "      <td>34</td>\n",
              "      <td>584</td>\n",
              "      <td>618</td>\n",
              "      <td>Morning</td>\n",
              "      <td>Working Day</td>\n",
              "      <td>Clearly</td>\n",
              "      <td>Summer</td>\n",
              "    </tr>\n",
              "    <tr>\n",
              "      <th>6721</th>\n",
              "      <td>6722</td>\n",
              "      <td>2011-10-12</td>\n",
              "      <td>4</td>\n",
              "      <td>0</td>\n",
              "      <td>10</td>\n",
              "      <td>15</td>\n",
              "      <td>0</td>\n",
              "      <td>3</td>\n",
              "      <td>1</td>\n",
              "      <td>3</td>\n",
              "      <td>3</td>\n",
              "      <td>42</td>\n",
              "      <td>45</td>\n",
              "      <td>Afternoon</td>\n",
              "      <td>Working Day</td>\n",
              "      <td>Rainy or Snowy</td>\n",
              "      <td>Winter</td>\n",
              "    </tr>\n",
              "    <tr>\n",
              "      <th>4695</th>\n",
              "      <td>4696</td>\n",
              "      <td>2011-07-19</td>\n",
              "      <td>3</td>\n",
              "      <td>0</td>\n",
              "      <td>7</td>\n",
              "      <td>13</td>\n",
              "      <td>0</td>\n",
              "      <td>2</td>\n",
              "      <td>1</td>\n",
              "      <td>1</td>\n",
              "      <td>33</td>\n",
              "      <td>139</td>\n",
              "      <td>172</td>\n",
              "      <td>Afternoon</td>\n",
              "      <td>Working Day</td>\n",
              "      <td>Clearly</td>\n",
              "      <td>Fall</td>\n",
              "    </tr>\n",
              "    <tr>\n",
              "      <th>11237</th>\n",
              "      <td>11238</td>\n",
              "      <td>2012-04-18</td>\n",
              "      <td>2</td>\n",
              "      <td>1</td>\n",
              "      <td>4</td>\n",
              "      <td>10</td>\n",
              "      <td>0</td>\n",
              "      <td>3</td>\n",
              "      <td>1</td>\n",
              "      <td>3</td>\n",
              "      <td>31</td>\n",
              "      <td>116</td>\n",
              "      <td>147</td>\n",
              "      <td>Morning</td>\n",
              "      <td>Working Day</td>\n",
              "      <td>Rainy or Snowy</td>\n",
              "      <td>Summer</td>\n",
              "    </tr>\n",
              "    <tr>\n",
              "      <th>1134</th>\n",
              "      <td>1135</td>\n",
              "      <td>2011-02-20</td>\n",
              "      <td>1</td>\n",
              "      <td>0</td>\n",
              "      <td>2</td>\n",
              "      <td>0</td>\n",
              "      <td>0</td>\n",
              "      <td>0</td>\n",
              "      <td>0</td>\n",
              "      <td>1</td>\n",
              "      <td>3</td>\n",
              "      <td>14</td>\n",
              "      <td>17</td>\n",
              "      <td>Dawn</td>\n",
              "      <td>Holiday</td>\n",
              "      <td>Clearly</td>\n",
              "      <td>Spring</td>\n",
              "    </tr>\n",
              "    <tr>\n",
              "      <th>10660</th>\n",
              "      <td>10661</td>\n",
              "      <td>2012-03-25</td>\n",
              "      <td>2</td>\n",
              "      <td>1</td>\n",
              "      <td>3</td>\n",
              "      <td>7</td>\n",
              "      <td>0</td>\n",
              "      <td>0</td>\n",
              "      <td>0</td>\n",
              "      <td>2</td>\n",
              "      <td>14</td>\n",
              "      <td>25</td>\n",
              "      <td>39</td>\n",
              "      <td>Morning</td>\n",
              "      <td>Holiday</td>\n",
              "      <td>Misty</td>\n",
              "      <td>Summer</td>\n",
              "    </tr>\n",
              "    <tr>\n",
              "      <th>10165</th>\n",
              "      <td>10166</td>\n",
              "      <td>2012-03-04</td>\n",
              "      <td>1</td>\n",
              "      <td>1</td>\n",
              "      <td>3</td>\n",
              "      <td>15</td>\n",
              "      <td>0</td>\n",
              "      <td>0</td>\n",
              "      <td>0</td>\n",
              "      <td>1</td>\n",
              "      <td>82</td>\n",
              "      <td>252</td>\n",
              "      <td>334</td>\n",
              "      <td>Afternoon</td>\n",
              "      <td>Holiday</td>\n",
              "      <td>Clearly</td>\n",
              "      <td>Spring</td>\n",
              "    </tr>\n",
              "    <tr>\n",
              "      <th>4776</th>\n",
              "      <td>4777</td>\n",
              "      <td>2011-07-22</td>\n",
              "      <td>3</td>\n",
              "      <td>0</td>\n",
              "      <td>7</td>\n",
              "      <td>22</td>\n",
              "      <td>0</td>\n",
              "      <td>5</td>\n",
              "      <td>1</td>\n",
              "      <td>2</td>\n",
              "      <td>44</td>\n",
              "      <td>105</td>\n",
              "      <td>149</td>\n",
              "      <td>Night</td>\n",
              "      <td>Working Day</td>\n",
              "      <td>Misty</td>\n",
              "      <td>Fall</td>\n",
              "    </tr>\n",
              "    <tr>\n",
              "      <th>15772</th>\n",
              "      <td>15773</td>\n",
              "      <td>2012-10-24</td>\n",
              "      <td>4</td>\n",
              "      <td>1</td>\n",
              "      <td>10</td>\n",
              "      <td>9</td>\n",
              "      <td>0</td>\n",
              "      <td>3</td>\n",
              "      <td>1</td>\n",
              "      <td>2</td>\n",
              "      <td>24</td>\n",
              "      <td>349</td>\n",
              "      <td>373</td>\n",
              "      <td>Morning</td>\n",
              "      <td>Working Day</td>\n",
              "      <td>Misty</td>\n",
              "      <td>Winter</td>\n",
              "    </tr>\n",
              "    <tr>\n",
              "      <th>6981</th>\n",
              "      <td>6982</td>\n",
              "      <td>2011-10-23</td>\n",
              "      <td>4</td>\n",
              "      <td>0</td>\n",
              "      <td>10</td>\n",
              "      <td>12</td>\n",
              "      <td>0</td>\n",
              "      <td>0</td>\n",
              "      <td>0</td>\n",
              "      <td>1</td>\n",
              "      <td>164</td>\n",
              "      <td>249</td>\n",
              "      <td>413</td>\n",
              "      <td>Afternoon</td>\n",
              "      <td>Holiday</td>\n",
              "      <td>Clearly</td>\n",
              "      <td>Winter</td>\n",
              "    </tr>\n",
              "    <tr>\n",
              "      <th>15730</th>\n",
              "      <td>15731</td>\n",
              "      <td>2012-10-22</td>\n",
              "      <td>4</td>\n",
              "      <td>1</td>\n",
              "      <td>10</td>\n",
              "      <td>15</td>\n",
              "      <td>0</td>\n",
              "      <td>1</td>\n",
              "      <td>1</td>\n",
              "      <td>1</td>\n",
              "      <td>74</td>\n",
              "      <td>222</td>\n",
              "      <td>296</td>\n",
              "      <td>Afternoon</td>\n",
              "      <td>Working Day</td>\n",
              "      <td>Clearly</td>\n",
              "      <td>Winter</td>\n",
              "    </tr>\n",
              "    <tr>\n",
              "      <th>10770</th>\n",
              "      <td>10771</td>\n",
              "      <td>2012-03-29</td>\n",
              "      <td>2</td>\n",
              "      <td>1</td>\n",
              "      <td>3</td>\n",
              "      <td>21</td>\n",
              "      <td>0</td>\n",
              "      <td>4</td>\n",
              "      <td>1</td>\n",
              "      <td>1</td>\n",
              "      <td>10</td>\n",
              "      <td>214</td>\n",
              "      <td>224</td>\n",
              "      <td>Night</td>\n",
              "      <td>Working Day</td>\n",
              "      <td>Clearly</td>\n",
              "      <td>Summer</td>\n",
              "    </tr>\n",
              "    <tr>\n",
              "      <th>15942</th>\n",
              "      <td>15943</td>\n",
              "      <td>2012-11-01</td>\n",
              "      <td>4</td>\n",
              "      <td>1</td>\n",
              "      <td>11</td>\n",
              "      <td>23</td>\n",
              "      <td>0</td>\n",
              "      <td>4</td>\n",
              "      <td>1</td>\n",
              "      <td>1</td>\n",
              "      <td>8</td>\n",
              "      <td>112</td>\n",
              "      <td>120</td>\n",
              "      <td>Night</td>\n",
              "      <td>Working Day</td>\n",
              "      <td>Clearly</td>\n",
              "      <td>Winter</td>\n",
              "    </tr>\n",
              "    <tr>\n",
              "      <th>1780</th>\n",
              "      <td>1781</td>\n",
              "      <td>2011-03-19</td>\n",
              "      <td>1</td>\n",
              "      <td>0</td>\n",
              "      <td>3</td>\n",
              "      <td>21</td>\n",
              "      <td>0</td>\n",
              "      <td>6</td>\n",
              "      <td>0</td>\n",
              "      <td>1</td>\n",
              "      <td>20</td>\n",
              "      <td>73</td>\n",
              "      <td>93</td>\n",
              "      <td>Night</td>\n",
              "      <td>Holiday</td>\n",
              "      <td>Clearly</td>\n",
              "      <td>Spring</td>\n",
              "    </tr>\n",
              "    <tr>\n",
              "      <th>11598</th>\n",
              "      <td>11599</td>\n",
              "      <td>2012-05-03</td>\n",
              "      <td>2</td>\n",
              "      <td>1</td>\n",
              "      <td>5</td>\n",
              "      <td>11</td>\n",
              "      <td>0</td>\n",
              "      <td>4</td>\n",
              "      <td>1</td>\n",
              "      <td>1</td>\n",
              "      <td>34</td>\n",
              "      <td>167</td>\n",
              "      <td>201</td>\n",
              "      <td>Afternoon</td>\n",
              "      <td>Working Day</td>\n",
              "      <td>Clearly</td>\n",
              "      <td>Summer</td>\n",
              "    </tr>\n",
              "  </tbody>\n",
              "</table>\n",
              "</div>"
            ],
            "text/plain": [
              "       instant     dteday  season  yr  mnth  hr  holiday  weekday  workingday  \\\n",
              "11619    11620 2012-05-04       2   1     5   8        0        5           1   \n",
              "6721      6722 2011-10-12       4   0    10  15        0        3           1   \n",
              "4695      4696 2011-07-19       3   0     7  13        0        2           1   \n",
              "11237    11238 2012-04-18       2   1     4  10        0        3           1   \n",
              "1134      1135 2011-02-20       1   0     2   0        0        0           0   \n",
              "10660    10661 2012-03-25       2   1     3   7        0        0           0   \n",
              "10165    10166 2012-03-04       1   1     3  15        0        0           0   \n",
              "4776      4777 2011-07-22       3   0     7  22        0        5           1   \n",
              "15772    15773 2012-10-24       4   1    10   9        0        3           1   \n",
              "6981      6982 2011-10-23       4   0    10  12        0        0           0   \n",
              "15730    15731 2012-10-22       4   1    10  15        0        1           1   \n",
              "10770    10771 2012-03-29       2   1     3  21        0        4           1   \n",
              "15942    15943 2012-11-01       4   1    11  23        0        4           1   \n",
              "1780      1781 2011-03-19       1   0     3  21        0        6           0   \n",
              "11598    11599 2012-05-03       2   1     5  11        0        4           1   \n",
              "\n",
              "       weathersit  casual  registered  cnt range_times     day_type  \\\n",
              "11619           1      34         584  618     Morning  Working Day   \n",
              "6721            3       3          42   45   Afternoon  Working Day   \n",
              "4695            1      33         139  172   Afternoon  Working Day   \n",
              "11237           3      31         116  147     Morning  Working Day   \n",
              "1134            1       3          14   17        Dawn      Holiday   \n",
              "10660           2      14          25   39     Morning      Holiday   \n",
              "10165           1      82         252  334   Afternoon      Holiday   \n",
              "4776            2      44         105  149       Night  Working Day   \n",
              "15772           2      24         349  373     Morning  Working Day   \n",
              "6981            1     164         249  413   Afternoon      Holiday   \n",
              "15730           1      74         222  296   Afternoon  Working Day   \n",
              "10770           1      10         214  224       Night  Working Day   \n",
              "15942           1       8         112  120       Night  Working Day   \n",
              "1780            1      20          73   93       Night      Holiday   \n",
              "11598           1      34         167  201   Afternoon  Working Day   \n",
              "\n",
              "      weather_situation season_type  \n",
              "11619           Clearly      Summer  \n",
              "6721     Rainy or Snowy      Winter  \n",
              "4695            Clearly        Fall  \n",
              "11237    Rainy or Snowy      Summer  \n",
              "1134            Clearly      Spring  \n",
              "10660             Misty      Summer  \n",
              "10165           Clearly      Spring  \n",
              "4776              Misty        Fall  \n",
              "15772             Misty      Winter  \n",
              "6981            Clearly      Winter  \n",
              "15730           Clearly      Winter  \n",
              "10770           Clearly      Summer  \n",
              "15942           Clearly      Winter  \n",
              "1780            Clearly      Spring  \n",
              "11598           Clearly      Summer  "
            ]
          },
          "execution_count": 43,
          "metadata": {},
          "output_type": "execute_result"
        }
      ],
      "source": [
        "# Membuat fungsi mapping\n",
        "def seasons(x):\n",
        "  if x == 1:\n",
        "    return 'Spring'\n",
        "  elif x == 2:\n",
        "    return 'Summer'\n",
        "  elif x == 3:\n",
        "    return 'Fall'\n",
        "  elif x == 4:\n",
        "    return 'Winter'\n",
        "\n",
        "# Mengapply fungsi situasi cuaca ke kolom baru\n",
        "hoursDf['season_type'] = hoursDf['season'].apply(seasons)\n",
        "hoursDf.sample(15)"
      ]
    },
    {
      "cell_type": "markdown",
      "metadata": {
        "id": "7CcP2Pb0fRNP"
      },
      "source": [
        "### Melakukan Pivot Table pada season_type dan cnt"
      ]
    },
    {
      "cell_type": "code",
      "execution_count": 44,
      "metadata": {
        "colab": {
          "base_uri": "https://localhost:8080/"
        },
        "id": "RuqUSm2zfVj9",
        "outputId": "f54b2fc9-f819-46f9-b5dc-d029f0b0c696"
      },
      "outputs": [
        {
          "data": {
            "text/plain": [
              "season_type\n",
              "Fall      236.0\n",
              "Summer    208.0\n",
              "Winter    199.0\n",
              "Spring    111.0\n",
              "Name: cnt, dtype: float64"
            ]
          },
          "execution_count": 44,
          "metadata": {},
          "output_type": "execute_result"
        }
      ],
      "source": [
        "groupedBySeason = hoursDf.groupby('season_type').cnt.mean().sort_values(ascending=False).round()\n",
        "groupedBySeason"
      ]
    },
    {
      "cell_type": "markdown",
      "metadata": {
        "id": "5O2BHONZhGJb"
      },
      "source": [
        "Jawab:\n",
        "\n",
        "Dari hasil  pivot table di atas, dapat disimpulkan bahwa musim dengan peminjam sepeda terbanyak adalah pada **Musim Gugur** dengan rata-rata peminjam sebanyak **236** orang per hari."
      ]
    },
    {
      "cell_type": "markdown",
      "metadata": {
        "id": "1IS_2_gDjDsN"
      },
      "source": [
        "## Menjawab Pertanyaan 5\n",
        "\n",
        "Pada sesi ini akan menggunakan tabel DaysDf dalam memroses data"
      ]
    },
    {
      "cell_type": "code",
      "execution_count": 45,
      "metadata": {
        "colab": {
          "base_uri": "https://localhost:8080/",
          "height": 363
        },
        "id": "MP37T-BMu3FS",
        "outputId": "392935f9-502a-40b2-dbe6-a790a60155cc"
      },
      "outputs": [
        {
          "data": {
            "text/html": [
              "<div>\n",
              "<style scoped>\n",
              "    .dataframe tbody tr th:only-of-type {\n",
              "        vertical-align: middle;\n",
              "    }\n",
              "\n",
              "    .dataframe tbody tr th {\n",
              "        vertical-align: top;\n",
              "    }\n",
              "\n",
              "    .dataframe thead th {\n",
              "        text-align: right;\n",
              "    }\n",
              "</style>\n",
              "<table border=\"1\" class=\"dataframe\">\n",
              "  <thead>\n",
              "    <tr style=\"text-align: right;\">\n",
              "      <th></th>\n",
              "      <th>instant</th>\n",
              "      <th>dteday</th>\n",
              "      <th>season</th>\n",
              "      <th>yr</th>\n",
              "      <th>mnth</th>\n",
              "      <th>holiday</th>\n",
              "      <th>weekday</th>\n",
              "      <th>workingday</th>\n",
              "      <th>weathersit</th>\n",
              "      <th>casual</th>\n",
              "      <th>registered</th>\n",
              "      <th>cnt</th>\n",
              "    </tr>\n",
              "  </thead>\n",
              "  <tbody>\n",
              "    <tr>\n",
              "      <th>0</th>\n",
              "      <td>1</td>\n",
              "      <td>2011-01-01</td>\n",
              "      <td>1</td>\n",
              "      <td>0</td>\n",
              "      <td>1</td>\n",
              "      <td>0</td>\n",
              "      <td>6</td>\n",
              "      <td>0</td>\n",
              "      <td>2</td>\n",
              "      <td>331</td>\n",
              "      <td>654</td>\n",
              "      <td>985</td>\n",
              "    </tr>\n",
              "    <tr>\n",
              "      <th>1</th>\n",
              "      <td>2</td>\n",
              "      <td>2011-01-02</td>\n",
              "      <td>1</td>\n",
              "      <td>0</td>\n",
              "      <td>1</td>\n",
              "      <td>0</td>\n",
              "      <td>0</td>\n",
              "      <td>0</td>\n",
              "      <td>2</td>\n",
              "      <td>131</td>\n",
              "      <td>670</td>\n",
              "      <td>801</td>\n",
              "    </tr>\n",
              "    <tr>\n",
              "      <th>2</th>\n",
              "      <td>3</td>\n",
              "      <td>2011-01-03</td>\n",
              "      <td>1</td>\n",
              "      <td>0</td>\n",
              "      <td>1</td>\n",
              "      <td>0</td>\n",
              "      <td>1</td>\n",
              "      <td>1</td>\n",
              "      <td>1</td>\n",
              "      <td>120</td>\n",
              "      <td>1229</td>\n",
              "      <td>1349</td>\n",
              "    </tr>\n",
              "    <tr>\n",
              "      <th>3</th>\n",
              "      <td>4</td>\n",
              "      <td>2011-01-04</td>\n",
              "      <td>1</td>\n",
              "      <td>0</td>\n",
              "      <td>1</td>\n",
              "      <td>0</td>\n",
              "      <td>2</td>\n",
              "      <td>1</td>\n",
              "      <td>1</td>\n",
              "      <td>108</td>\n",
              "      <td>1454</td>\n",
              "      <td>1562</td>\n",
              "    </tr>\n",
              "    <tr>\n",
              "      <th>4</th>\n",
              "      <td>5</td>\n",
              "      <td>2011-01-05</td>\n",
              "      <td>1</td>\n",
              "      <td>0</td>\n",
              "      <td>1</td>\n",
              "      <td>0</td>\n",
              "      <td>3</td>\n",
              "      <td>1</td>\n",
              "      <td>1</td>\n",
              "      <td>82</td>\n",
              "      <td>1518</td>\n",
              "      <td>1600</td>\n",
              "    </tr>\n",
              "    <tr>\n",
              "      <th>5</th>\n",
              "      <td>6</td>\n",
              "      <td>2011-01-06</td>\n",
              "      <td>1</td>\n",
              "      <td>0</td>\n",
              "      <td>1</td>\n",
              "      <td>0</td>\n",
              "      <td>4</td>\n",
              "      <td>1</td>\n",
              "      <td>1</td>\n",
              "      <td>88</td>\n",
              "      <td>1518</td>\n",
              "      <td>1606</td>\n",
              "    </tr>\n",
              "    <tr>\n",
              "      <th>6</th>\n",
              "      <td>7</td>\n",
              "      <td>2011-01-07</td>\n",
              "      <td>1</td>\n",
              "      <td>0</td>\n",
              "      <td>1</td>\n",
              "      <td>0</td>\n",
              "      <td>5</td>\n",
              "      <td>1</td>\n",
              "      <td>2</td>\n",
              "      <td>148</td>\n",
              "      <td>1362</td>\n",
              "      <td>1510</td>\n",
              "    </tr>\n",
              "    <tr>\n",
              "      <th>7</th>\n",
              "      <td>8</td>\n",
              "      <td>2011-01-08</td>\n",
              "      <td>1</td>\n",
              "      <td>0</td>\n",
              "      <td>1</td>\n",
              "      <td>0</td>\n",
              "      <td>6</td>\n",
              "      <td>0</td>\n",
              "      <td>2</td>\n",
              "      <td>68</td>\n",
              "      <td>891</td>\n",
              "      <td>959</td>\n",
              "    </tr>\n",
              "    <tr>\n",
              "      <th>8</th>\n",
              "      <td>9</td>\n",
              "      <td>2011-01-09</td>\n",
              "      <td>1</td>\n",
              "      <td>0</td>\n",
              "      <td>1</td>\n",
              "      <td>0</td>\n",
              "      <td>0</td>\n",
              "      <td>0</td>\n",
              "      <td>1</td>\n",
              "      <td>54</td>\n",
              "      <td>768</td>\n",
              "      <td>822</td>\n",
              "    </tr>\n",
              "    <tr>\n",
              "      <th>9</th>\n",
              "      <td>10</td>\n",
              "      <td>2011-01-10</td>\n",
              "      <td>1</td>\n",
              "      <td>0</td>\n",
              "      <td>1</td>\n",
              "      <td>0</td>\n",
              "      <td>1</td>\n",
              "      <td>1</td>\n",
              "      <td>1</td>\n",
              "      <td>41</td>\n",
              "      <td>1280</td>\n",
              "      <td>1321</td>\n",
              "    </tr>\n",
              "  </tbody>\n",
              "</table>\n",
              "</div>"
            ],
            "text/plain": [
              "   instant     dteday  season  yr  mnth  holiday  weekday  workingday  \\\n",
              "0        1 2011-01-01       1   0     1        0        6           0   \n",
              "1        2 2011-01-02       1   0     1        0        0           0   \n",
              "2        3 2011-01-03       1   0     1        0        1           1   \n",
              "3        4 2011-01-04       1   0     1        0        2           1   \n",
              "4        5 2011-01-05       1   0     1        0        3           1   \n",
              "5        6 2011-01-06       1   0     1        0        4           1   \n",
              "6        7 2011-01-07       1   0     1        0        5           1   \n",
              "7        8 2011-01-08       1   0     1        0        6           0   \n",
              "8        9 2011-01-09       1   0     1        0        0           0   \n",
              "9       10 2011-01-10       1   0     1        0        1           1   \n",
              "\n",
              "   weathersit  casual  registered   cnt  \n",
              "0           2     331         654   985  \n",
              "1           2     131         670   801  \n",
              "2           1     120        1229  1349  \n",
              "3           1     108        1454  1562  \n",
              "4           1      82        1518  1600  \n",
              "5           1      88        1518  1606  \n",
              "6           2     148        1362  1510  \n",
              "7           2      68         891   959  \n",
              "8           1      54         768   822  \n",
              "9           1      41        1280  1321  "
            ]
          },
          "execution_count": 45,
          "metadata": {},
          "output_type": "execute_result"
        }
      ],
      "source": [
        "daysDf.head(10)"
      ]
    },
    {
      "cell_type": "markdown",
      "metadata": {
        "id": "A6ChljvDtlYm"
      },
      "source": [
        "### Mengambil Data Berdasarkan Tahun"
      ]
    },
    {
      "cell_type": "code",
      "execution_count": 46,
      "metadata": {
        "colab": {
          "base_uri": "https://localhost:8080/"
        },
        "id": "gocFAKzljBTB",
        "outputId": "d88559b8-744d-4804-90f5-00037f0f90df"
      },
      "outputs": [
        {
          "data": {
            "text/plain": [
              "(365, 12)"
            ]
          },
          "execution_count": 46,
          "metadata": {},
          "output_type": "execute_result"
        }
      ],
      "source": [
        "# Ambil data dari tahun 2011\n",
        "dataFrom2011 = daysDf[daysDf['yr'] == 0]\n",
        "dataFrom2011.shape"
      ]
    },
    {
      "cell_type": "code",
      "execution_count": 47,
      "metadata": {
        "colab": {
          "base_uri": "https://localhost:8080/"
        },
        "id": "hFVb1UoTuEOh",
        "outputId": "1859d148-3d49-4b27-f35f-d6ff21c6d6c2"
      },
      "outputs": [
        {
          "data": {
            "text/plain": [
              "(366, 12)"
            ]
          },
          "execution_count": 47,
          "metadata": {},
          "output_type": "execute_result"
        }
      ],
      "source": [
        "# Ambil data dari tahun 2012\n",
        "dataFrom2012 = daysDf[daysDf['yr'] == 1]\n",
        "dataFrom2012.shape"
      ]
    },
    {
      "cell_type": "markdown",
      "metadata": {
        "id": "lhXQbB4WuwZa"
      },
      "source": [
        "### Melakukan Pivot Table Berdasarkan Kategori Pengguna Tiap Bulan"
      ]
    },
    {
      "cell_type": "code",
      "execution_count": 48,
      "metadata": {
        "colab": {
          "base_uri": "https://localhost:8080/",
          "height": 488
        },
        "id": "4mBidf80vY0v",
        "outputId": "d19ae773-1b18-4b59-a39b-d07986ef6960"
      },
      "outputs": [
        {
          "data": {
            "text/html": [
              "<div>\n",
              "<style scoped>\n",
              "    .dataframe tbody tr th:only-of-type {\n",
              "        vertical-align: middle;\n",
              "    }\n",
              "\n",
              "    .dataframe tbody tr th {\n",
              "        vertical-align: top;\n",
              "    }\n",
              "\n",
              "    .dataframe thead tr th {\n",
              "        text-align: left;\n",
              "    }\n",
              "\n",
              "    .dataframe thead tr:last-of-type th {\n",
              "        text-align: right;\n",
              "    }\n",
              "</style>\n",
              "<table border=\"1\" class=\"dataframe\">\n",
              "  <thead>\n",
              "    <tr>\n",
              "      <th></th>\n",
              "      <th colspan=\"3\" halign=\"left\">casual</th>\n",
              "      <th colspan=\"3\" halign=\"left\">registered</th>\n",
              "    </tr>\n",
              "    <tr>\n",
              "      <th></th>\n",
              "      <th>std</th>\n",
              "      <th>mean</th>\n",
              "      <th>sum</th>\n",
              "      <th>std</th>\n",
              "      <th>mean</th>\n",
              "      <th>sum</th>\n",
              "    </tr>\n",
              "    <tr>\n",
              "      <th>mnth</th>\n",
              "      <th></th>\n",
              "      <th></th>\n",
              "      <th></th>\n",
              "      <th></th>\n",
              "      <th></th>\n",
              "      <th></th>\n",
              "    </tr>\n",
              "  </thead>\n",
              "  <tbody>\n",
              "    <tr>\n",
              "      <th>1</th>\n",
              "      <td>73</td>\n",
              "      <td>99</td>\n",
              "      <td>3073</td>\n",
              "      <td>370</td>\n",
              "      <td>1133</td>\n",
              "      <td>35116</td>\n",
              "    </tr>\n",
              "    <tr>\n",
              "      <th>2</th>\n",
              "      <td>193</td>\n",
              "      <td>223</td>\n",
              "      <td>6242</td>\n",
              "      <td>332</td>\n",
              "      <td>1499</td>\n",
              "      <td>41973</td>\n",
              "    </tr>\n",
              "    <tr>\n",
              "      <th>3</th>\n",
              "      <td>333</td>\n",
              "      <td>414</td>\n",
              "      <td>12826</td>\n",
              "      <td>402</td>\n",
              "      <td>1652</td>\n",
              "      <td>51219</td>\n",
              "    </tr>\n",
              "    <tr>\n",
              "      <th>4</th>\n",
              "      <td>498</td>\n",
              "      <td>745</td>\n",
              "      <td>22346</td>\n",
              "      <td>810</td>\n",
              "      <td>2417</td>\n",
              "      <td>72524</td>\n",
              "    </tr>\n",
              "    <tr>\n",
              "      <th>5</th>\n",
              "      <td>526</td>\n",
              "      <td>1002</td>\n",
              "      <td>31050</td>\n",
              "      <td>566</td>\n",
              "      <td>3380</td>\n",
              "      <td>104771</td>\n",
              "    </tr>\n",
              "    <tr>\n",
              "      <th>6</th>\n",
              "      <td>459</td>\n",
              "      <td>1020</td>\n",
              "      <td>30612</td>\n",
              "      <td>440</td>\n",
              "      <td>3763</td>\n",
              "      <td>112900</td>\n",
              "    </tr>\n",
              "    <tr>\n",
              "      <th>7</th>\n",
              "      <td>665</td>\n",
              "      <td>1176</td>\n",
              "      <td>36452</td>\n",
              "      <td>510</td>\n",
              "      <td>3384</td>\n",
              "      <td>104889</td>\n",
              "    </tr>\n",
              "    <tr>\n",
              "      <th>8</th>\n",
              "      <td>360</td>\n",
              "      <td>930</td>\n",
              "      <td>28842</td>\n",
              "      <td>755</td>\n",
              "      <td>3479</td>\n",
              "      <td>107849</td>\n",
              "    </tr>\n",
              "    <tr>\n",
              "      <th>9</th>\n",
              "      <td>599</td>\n",
              "      <td>885</td>\n",
              "      <td>26545</td>\n",
              "      <td>773</td>\n",
              "      <td>3362</td>\n",
              "      <td>100873</td>\n",
              "    </tr>\n",
              "    <tr>\n",
              "      <th>10</th>\n",
              "      <td>618</td>\n",
              "      <td>814</td>\n",
              "      <td>25222</td>\n",
              "      <td>810</td>\n",
              "      <td>3171</td>\n",
              "      <td>98289</td>\n",
              "    </tr>\n",
              "    <tr>\n",
              "      <th>11</th>\n",
              "      <td>375</td>\n",
              "      <td>520</td>\n",
              "      <td>15594</td>\n",
              "      <td>788</td>\n",
              "      <td>2886</td>\n",
              "      <td>86573</td>\n",
              "    </tr>\n",
              "    <tr>\n",
              "      <th>12</th>\n",
              "      <td>169</td>\n",
              "      <td>273</td>\n",
              "      <td>8448</td>\n",
              "      <td>948</td>\n",
              "      <td>2544</td>\n",
              "      <td>78875</td>\n",
              "    </tr>\n",
              "  </tbody>\n",
              "</table>\n",
              "</div>"
            ],
            "text/plain": [
              "     casual              registered              \n",
              "        std  mean    sum        std  mean     sum\n",
              "mnth                                             \n",
              "1        73    99   3073        370  1133   35116\n",
              "2       193   223   6242        332  1499   41973\n",
              "3       333   414  12826        402  1652   51219\n",
              "4       498   745  22346        810  2417   72524\n",
              "5       526  1002  31050        566  3380  104771\n",
              "6       459  1020  30612        440  3763  112900\n",
              "7       665  1176  36452        510  3384  104889\n",
              "8       360   930  28842        755  3479  107849\n",
              "9       599   885  26545        773  3362  100873\n",
              "10      618   814  25222        810  3171   98289\n",
              "11      375   520  15594        788  2886   86573\n",
              "12      169   273   8448        948  2544   78875"
            ]
          },
          "execution_count": 48,
          "metadata": {},
          "output_type": "execute_result"
        }
      ],
      "source": [
        "# Olah data tahun 2011\n",
        "# Data pengguna kasual dan terdaftar pada tahun 2011\n",
        "groupedByMonth2011 = dataFrom2011.groupby(by='mnth').agg({\n",
        "    'casual': ['std','mean', 'sum'],\n",
        "    'registered': ['std', 'mean', 'sum'],\n",
        "}).round().astype(int)\n",
        "\n",
        "groupedByMonth2011"
      ]
    },
    {
      "cell_type": "code",
      "execution_count": 49,
      "metadata": {
        "colab": {
          "base_uri": "https://localhost:8080/",
          "height": 488
        },
        "id": "YAuHP3s81-RV",
        "outputId": "6e25bd14-4694-4669-c7fa-938049d989a3"
      },
      "outputs": [
        {
          "data": {
            "text/html": [
              "<div>\n",
              "<style scoped>\n",
              "    .dataframe tbody tr th:only-of-type {\n",
              "        vertical-align: middle;\n",
              "    }\n",
              "\n",
              "    .dataframe tbody tr th {\n",
              "        vertical-align: top;\n",
              "    }\n",
              "\n",
              "    .dataframe thead tr th {\n",
              "        text-align: left;\n",
              "    }\n",
              "\n",
              "    .dataframe thead tr:last-of-type th {\n",
              "        text-align: right;\n",
              "    }\n",
              "</style>\n",
              "<table border=\"1\" class=\"dataframe\">\n",
              "  <thead>\n",
              "    <tr>\n",
              "      <th></th>\n",
              "      <th colspan=\"3\" halign=\"left\">casual</th>\n",
              "      <th colspan=\"3\" halign=\"left\">registered</th>\n",
              "    </tr>\n",
              "    <tr>\n",
              "      <th></th>\n",
              "      <th>std</th>\n",
              "      <th>mean</th>\n",
              "      <th>sum</th>\n",
              "      <th>std</th>\n",
              "      <th>mean</th>\n",
              "      <th>sum</th>\n",
              "    </tr>\n",
              "    <tr>\n",
              "      <th>mnth</th>\n",
              "      <th></th>\n",
              "      <th></th>\n",
              "      <th></th>\n",
              "      <th></th>\n",
              "      <th></th>\n",
              "      <th></th>\n",
              "    </tr>\n",
              "  </thead>\n",
              "  <tbody>\n",
              "    <tr>\n",
              "      <th>1</th>\n",
              "      <td>235</td>\n",
              "      <td>289</td>\n",
              "      <td>8969</td>\n",
              "      <td>792</td>\n",
              "      <td>2831</td>\n",
              "      <td>87775</td>\n",
              "    </tr>\n",
              "    <tr>\n",
              "      <th>2</th>\n",
              "      <td>262</td>\n",
              "      <td>301</td>\n",
              "      <td>8721</td>\n",
              "      <td>840</td>\n",
              "      <td>3256</td>\n",
              "      <td>94416</td>\n",
              "    </tr>\n",
              "    <tr>\n",
              "      <th>3</th>\n",
              "      <td>701</td>\n",
              "      <td>1020</td>\n",
              "      <td>31618</td>\n",
              "      <td>936</td>\n",
              "      <td>4299</td>\n",
              "      <td>133257</td>\n",
              "    </tr>\n",
              "    <tr>\n",
              "      <th>4</th>\n",
              "      <td>844</td>\n",
              "      <td>1282</td>\n",
              "      <td>38456</td>\n",
              "      <td>1057</td>\n",
              "      <td>4526</td>\n",
              "      <td>135768</td>\n",
              "    </tr>\n",
              "    <tr>\n",
              "      <th>5</th>\n",
              "      <td>888</td>\n",
              "      <td>1427</td>\n",
              "      <td>44235</td>\n",
              "      <td>964</td>\n",
              "      <td>4891</td>\n",
              "      <td>151630</td>\n",
              "    </tr>\n",
              "    <tr>\n",
              "      <th>6</th>\n",
              "      <td>771</td>\n",
              "      <td>1443</td>\n",
              "      <td>43294</td>\n",
              "      <td>803</td>\n",
              "      <td>5318</td>\n",
              "      <td>159536</td>\n",
              "    </tr>\n",
              "    <tr>\n",
              "      <th>7</th>\n",
              "      <td>520</td>\n",
              "      <td>1345</td>\n",
              "      <td>41705</td>\n",
              "      <td>935</td>\n",
              "      <td>5223</td>\n",
              "      <td>161902</td>\n",
              "    </tr>\n",
              "    <tr>\n",
              "      <th>8</th>\n",
              "      <td>450</td>\n",
              "      <td>1393</td>\n",
              "      <td>43197</td>\n",
              "      <td>943</td>\n",
              "      <td>5526</td>\n",
              "      <td>171306</td>\n",
              "    </tr>\n",
              "    <tr>\n",
              "      <th>9</th>\n",
              "      <td>761</td>\n",
              "      <td>1459</td>\n",
              "      <td>43778</td>\n",
              "      <td>1065</td>\n",
              "      <td>5826</td>\n",
              "      <td>174795</td>\n",
              "    </tr>\n",
              "    <tr>\n",
              "      <th>10</th>\n",
              "      <td>760</td>\n",
              "      <td>1114</td>\n",
              "      <td>34538</td>\n",
              "      <td>1666</td>\n",
              "      <td>5300</td>\n",
              "      <td>164303</td>\n",
              "    </tr>\n",
              "    <tr>\n",
              "      <th>11</th>\n",
              "      <td>542</td>\n",
              "      <td>700</td>\n",
              "      <td>21009</td>\n",
              "      <td>1112</td>\n",
              "      <td>4388</td>\n",
              "      <td>131655</td>\n",
              "    </tr>\n",
              "    <tr>\n",
              "      <th>12</th>\n",
              "      <td>245</td>\n",
              "      <td>427</td>\n",
              "      <td>13245</td>\n",
              "      <td>1712</td>\n",
              "      <td>3563</td>\n",
              "      <td>110468</td>\n",
              "    </tr>\n",
              "  </tbody>\n",
              "</table>\n",
              "</div>"
            ],
            "text/plain": [
              "     casual              registered              \n",
              "        std  mean    sum        std  mean     sum\n",
              "mnth                                             \n",
              "1       235   289   8969        792  2831   87775\n",
              "2       262   301   8721        840  3256   94416\n",
              "3       701  1020  31618        936  4299  133257\n",
              "4       844  1282  38456       1057  4526  135768\n",
              "5       888  1427  44235        964  4891  151630\n",
              "6       771  1443  43294        803  5318  159536\n",
              "7       520  1345  41705        935  5223  161902\n",
              "8       450  1393  43197        943  5526  171306\n",
              "9       761  1459  43778       1065  5826  174795\n",
              "10      760  1114  34538       1666  5300  164303\n",
              "11      542   700  21009       1112  4388  131655\n",
              "12      245   427  13245       1712  3563  110468"
            ]
          },
          "execution_count": 49,
          "metadata": {},
          "output_type": "execute_result"
        }
      ],
      "source": [
        "# Olah data tahun 2012\n",
        "# Data pengguna kasual dan terdaftar pada tahun 2011\n",
        "groupedByMonth2012 = dataFrom2012.groupby(by='mnth').agg({\n",
        "    'casual': ['std','mean', 'sum'],\n",
        "    'registered': ['std', 'mean', 'sum'],\n",
        "}).round().astype(int)\n",
        "\n",
        "groupedByMonth2012"
      ]
    },
    {
      "cell_type": "markdown",
      "metadata": {
        "id": "l3TlTMoCwbli"
      },
      "source": [
        "### Melakukan Pivot Table Rata-Rata Berdasarkan Kategori Pengguna Tiap Tahun"
      ]
    },
    {
      "cell_type": "code",
      "execution_count": 50,
      "metadata": {
        "colab": {
          "base_uri": "https://localhost:8080/",
          "height": 143
        },
        "id": "jFwPiYeewKJL",
        "outputId": "44bd7f4d-aba1-4b75-adee-4553216c7c26"
      },
      "outputs": [
        {
          "data": {
            "text/html": [
              "<div>\n",
              "<style scoped>\n",
              "    .dataframe tbody tr th:only-of-type {\n",
              "        vertical-align: middle;\n",
              "    }\n",
              "\n",
              "    .dataframe tbody tr th {\n",
              "        vertical-align: top;\n",
              "    }\n",
              "\n",
              "    .dataframe thead th {\n",
              "        text-align: right;\n",
              "    }\n",
              "</style>\n",
              "<table border=\"1\" class=\"dataframe\">\n",
              "  <thead>\n",
              "    <tr style=\"text-align: right;\">\n",
              "      <th></th>\n",
              "      <th>casual</th>\n",
              "      <th>registered</th>\n",
              "    </tr>\n",
              "    <tr>\n",
              "      <th>yr</th>\n",
              "      <th></th>\n",
              "      <th></th>\n",
              "    </tr>\n",
              "  </thead>\n",
              "  <tbody>\n",
              "    <tr>\n",
              "      <th>0</th>\n",
              "      <td>677</td>\n",
              "      <td>2728</td>\n",
              "    </tr>\n",
              "    <tr>\n",
              "      <th>1</th>\n",
              "      <td>1018</td>\n",
              "      <td>4581</td>\n",
              "    </tr>\n",
              "  </tbody>\n",
              "</table>\n",
              "</div>"
            ],
            "text/plain": [
              "    casual  registered\n",
              "yr                    \n",
              "0      677        2728\n",
              "1     1018        4581"
            ]
          },
          "execution_count": 50,
          "metadata": {},
          "output_type": "execute_result"
        }
      ],
      "source": [
        "meanGroupedByYear = daysDf.groupby(by='yr').agg({\n",
        "    'casual': 'mean',\n",
        "    'registered': 'mean',\n",
        "}).round().astype(int)\n",
        "\n",
        "meanGroupedByYear"
      ]
    },
    {
      "cell_type": "markdown",
      "metadata": {
        "id": "zvolyiAC6buy"
      },
      "source": [
        "## Menjawab Pertanyaan 6\n",
        "\n",
        "Pada sesi ini akan menggunakan hoursDf, untuk mencari korelasi pada setiap kolom dengan gambaran besar pada setiap harinya. Yang perlu digaris bawahi adalah mencari tahu korelasi faktor waktu dan banyaknya pengguna yang meminjam sepeda"
      ]
    },
    {
      "cell_type": "code",
      "execution_count": 51,
      "metadata": {
        "colab": {
          "base_uri": "https://localhost:8080/"
        },
        "id": "tKYPj9Ea6gCp",
        "outputId": "f6643ac8-e15c-46a6-a716-a5dc91a0a79b"
      },
      "outputs": [],
      "source": [
        "correlation_matrix = hoursDf.select_dtypes(include=['float64', 'int64']).corr()"
      ]
    },
    {
      "cell_type": "code",
      "execution_count": 52,
      "metadata": {
        "colab": {
          "base_uri": "https://localhost:8080/"
        },
        "id": "R3bCBuHi700F",
        "outputId": "6421435a-52ab-4236-81bf-3e534a647007"
      },
      "outputs": [
        {
          "data": {
            "text/plain": [
              "cnt           1.000000\n",
              "registered    0.972151\n",
              "casual        0.694564\n",
              "hr            0.394071\n",
              "instant       0.278379\n",
              "yr            0.250495\n",
              "season        0.178056\n",
              "weathersit    0.142426\n",
              "mnth          0.120638\n",
              "holiday       0.030927\n",
              "workingday    0.030284\n",
              "weekday       0.026900\n",
              "Name: cnt, dtype: float64"
            ]
          },
          "execution_count": 52,
          "metadata": {},
          "output_type": "execute_result"
        }
      ],
      "source": [
        "sorted_columns = correlation_matrix['cnt'].abs().sort_values(ascending=False)\n",
        "sorted_columns"
      ]
    },
    {
      "cell_type": "markdown",
      "metadata": {
        "id": "0gZJc-BbA43e"
      },
      "source": [
        "Dari hasil pemeriksaan korelasi dari setiap kolom, akan dilakukan analisis lanjut pada kolom hour (hr) dan count (cnt) untuk mengetahui sejauh apa hubungan antara jam peminjaman dengan jumlah pengguna."
      ]
    },
    {
      "cell_type": "markdown",
      "metadata": {
        "id": "eROEIkfHFIDl"
      },
      "source": [
        "### Encoding pada Kolom range_times"
      ]
    },
    {
      "cell_type": "code",
      "execution_count": 53,
      "metadata": {
        "id": "J315ANxrFdAU"
      },
      "outputs": [],
      "source": [
        "label_encoder = LabelEncoder()\n",
        "hoursDf['range_times_encoded'] = label_encoder.fit_transform(hoursDf['range_times'])"
      ]
    },
    {
      "cell_type": "code",
      "execution_count": 54,
      "metadata": {
        "colab": {
          "base_uri": "https://localhost:8080/"
        },
        "id": "DPE5oBLxHTB4",
        "outputId": "3fcd339d-e752-49e2-9c5d-dbf06e8ea5d4"
      },
      "outputs": [],
      "source": [
        "# Menyatukan kategori waktu dan jumlah pengguna untuk analisis K-Means\n",
        "X = hoursDf[['range_times_encoded', 'cnt']]\n",
        "\n",
        "# Normalisasi data\n",
        "scaler = StandardScaler()\n",
        "X_scaled = scaler.fit_transform(X)\n",
        "\n",
        "kmeans = KMeans(n_clusters=4, random_state=42)\n",
        "hoursDf['range_times_clustered'] = kmeans.fit_predict(X_scaled)"
      ]
    },
    {
      "cell_type": "markdown",
      "metadata": {},
      "source": [
        "### Buat Data Baru Untuk Dashboard"
      ]
    },
    {
      "cell_type": "code",
      "execution_count": 55,
      "metadata": {
        "colab": {
          "base_uri": "https://localhost:8080/",
          "height": 313
        },
        "id": "G2_LV_AMFHtn",
        "outputId": "4b8aeacf-d791-4eda-c124-a15dd7c6a0f7"
      },
      "outputs": [],
      "source": [
        "hoursDf.to_csv('dashboard/hours-new.csv')"
      ]
    },
    {
      "cell_type": "code",
      "execution_count": 56,
      "metadata": {},
      "outputs": [],
      "source": [
        "daysDf.to_csv('dashboard/days-new.csv')"
      ]
    },
    {
      "cell_type": "markdown",
      "metadata": {
        "id": "zsyZjqak8DC2"
      },
      "source": [
        "# Visualization & Explanatory Analysis"
      ]
    },
    {
      "cell_type": "markdown",
      "metadata": {
        "id": "HZxOiQ6n8DC2"
      },
      "source": [
        "## Pertanyaan 1 :\n",
        "\n",
        "Jawaban dari pertanyaan ini dapat diambil dari hasil proses EDA pada sesi sebelumnya, yaitu pada pertanyaan ke 5. Berikut adalah bentuk visualisasi datanya:"
      ]
    },
    {
      "cell_type": "markdown",
      "metadata": {},
      "source": [
        "Data Rata-Rata Peminjam Kasual pada Tahun 2011-2012"
      ]
    },
    {
      "cell_type": "code",
      "execution_count": 57,
      "metadata": {
        "colab": {
          "base_uri": "https://localhost:8080/",
          "height": 487
        },
        "id": "1swJUdAD8DC2",
        "outputId": "2f1abb1e-c47c-4d76-b106-66ab6b039b49"
      },
      "outputs": [
        {
          "data": {
            "image/png": "[encoded data removed]",
            "text/plain": [
              "<Figure size 1200x500 with 1 Axes>"
            ]
          },
          "metadata": {},
          "output_type": "display_data"
        }
      ],
      "source": [
        "#Menambah lebar kanvas\n",
        "plt.figure(figsize=(12,5))\n",
        "#Plot rata-rata dari peminjam sepeda tahun  2011\n",
        "plt.plot(groupedByMonth2011.index, groupedByMonth2011['casual']['mean'], color='red', label='2011')\n",
        "#Plot rata-rata dari peminjam sepeda tahun  2012\n",
        "plt.plot(groupedByMonth2012.index, groupedByMonth2012['casual']['mean'], color='blue', label='2012')\n",
        "plt.title('Average Bicycle Loaner in 2011-2012')\n",
        "plt.xlabel('Month(s)')\n",
        "plt.ylabel('Mean')\n",
        "plt.legend()\n",
        "plt.show()"
      ]
    },
    {
      "cell_type": "markdown",
      "metadata": {},
      "source": [
        "Data Rata-Rata Peminjam Terdaftar pada Tahun 2011-2012"
      ]
    },
    {
      "cell_type": "code",
      "execution_count": 63,
      "metadata": {},
      "outputs": [
        {
          "data": {
            "image/png": "[encoded data removed]",
            "text/plain": [
              "<Figure size 1200x500 with 1 Axes>"
            ]
          },
          "metadata": {},
          "output_type": "display_data"
        }
      ],
      "source": [
        "#Menambah lebar kanvas\n",
        "plt.figure(figsize=(12,5))\n",
        "#Plot rata-rata dari peminjam sepeda tahun  2011\n",
        "plt.plot(groupedByMonth2011.index, groupedByMonth2011['registered']['mean'], color='red', label='2011')\n",
        "#Plot rata-rata dari peminjam sepeda tahun  2012\n",
        "plt.plot(groupedByMonth2012.index, groupedByMonth2012['registered']['mean'], color='blue', label='2012')\n",
        "plt.title('Average Bicycle Loaner in 2011-2012')\n",
        "plt.xlabel('Month(s)')\n",
        "plt.ylabel('Mean')\n",
        "plt.legend()\n",
        "plt.show()"
      ]
    },
    {
      "cell_type": "markdown",
      "metadata": {},
      "source": [
        "Jawab:\n",
        "Dari hasil analisis dan visualisasi data di atas, dapat disimpulkan bahwa terdapat **kenaikan** jumlah rata-rata peminjam dari tahun 2011 ke 2012. Hal ini menjadi tolak ukur bahwa bisnis yang sedang berjalan dapat dilanjutkan."
      ]
    },
    {
      "cell_type": "markdown",
      "metadata": {
        "id": "DgHI7CiU8DC2"
      },
      "source": [
        "## Pertanyaan 2:\n",
        "\n",
        "Jawaban dari pertanyaan ini adalah pembahasan-pembahasan pada sesi menjawab pertanyaan di proses EDA. Yaitu ketika menjawab semua pertanyaan, terkecuali pertanyaan ke-5 (Karena sudah dibahas pada pertanyaan 1)"
      ]
    },
    {
      "cell_type": "markdown",
      "metadata": {
        "id": "F9OCU8kXoKf7"
      },
      "source": [
        "### Visualisasi Alasan 1"
      ]
    },
    {
      "cell_type": "code",
      "execution_count": 58,
      "metadata": {
        "colab": {
          "base_uri": "https://localhost:8080/",
          "height": 428
        },
        "id": "Go0lCsvO8DC2",
        "outputId": "d3439f78-fbe1-49c0-9de9-bd701de6b758"
      },
      "outputs": [
        {
          "data": {
            "image/png": "[encoded data removed]",
            "text/plain": [
              "<Figure size 640x480 with 1 Axes>"
            ]
          },
          "metadata": {},
          "output_type": "display_data"
        }
      ],
      "source": [
        "sumRangeTimes = groupedByRangeTimes\n",
        "\n",
        "plt.pie(\n",
        "    x=sumRangeTimes.values,\n",
        "    labels=sumRangeTimes.index,\n",
        "    autopct='%1.1f%%',\n",
        "    colors=['#1f77b4', '#ff7f0e', '#2ca02c', '#d62728', '#9467bd'],\n",
        ")\n",
        "\n",
        "plt.title('Total Loaners By Range Times')\n",
        "plt.show()"
      ]
    },
    {
      "cell_type": "markdown",
      "metadata": {
        "id": "piommwAbrmfS"
      },
      "source": [
        "### Visualisasi Alasan 2"
      ]
    },
    {
      "cell_type": "code",
      "execution_count": 59,
      "metadata": {
        "colab": {
          "base_uri": "https://localhost:8080/",
          "height": 428
        },
        "id": "1ZaIzpapsMrg",
        "outputId": "a6fbb2e4-9b34-4de4-ecf0-2043633d2bea"
      },
      "outputs": [
        {
          "data": {
            "image/png": "[encoded data removed]",
            "text/plain": [
              "<Figure size 640x480 with 1 Axes>"
            ]
          },
          "metadata": {},
          "output_type": "display_data"
        }
      ],
      "source": [
        "meanDayTypes = groupedByDayType[('cnt', 'sum')]\n",
        "\n",
        "plt.pie(\n",
        "    x=meanDayTypes.values,\n",
        "    labels=meanDayTypes.index,\n",
        "    autopct='%1.1f%%',\n",
        "    colors=['red', 'orange'],\n",
        "    explode=[0.1, 0]\n",
        ")\n",
        "\n",
        "plt.title('Total Loaners By Day Type')\n",
        "plt.show()"
      ]
    },
    {
      "cell_type": "markdown",
      "metadata": {
        "id": "CXIdLLRtterm"
      },
      "source": [
        "### Visualisasi Alasan 3"
      ]
    },
    {
      "cell_type": "code",
      "execution_count": 60,
      "metadata": {
        "colab": {
          "base_uri": "https://localhost:8080/",
          "height": 564
        },
        "id": "rFXFvg5Ltgug",
        "outputId": "788ceb49-8e16-4733-bf59-5708d16b1ef3"
      },
      "outputs": [
        {
          "data": {
            "image/png": "[encoded data removed]",
            "text/plain": [
              "<Figure size 1000x600 with 1 Axes>"
            ]
          },
          "metadata": {},
          "output_type": "display_data"
        }
      ],
      "source": [
        "# Mengurutkan data dari jumlah tertinggi ke terendah\n",
        "groupedByWeather.sort_values(ascending=False, inplace=True)\n",
        "\n",
        "fig, ax = plt.subplots(figsize=(10, 6))\n",
        "# Plotting visualisasi\n",
        "plt.bar(x=groupedByWeather.index, height=groupedByWeather.values)\n",
        "plt.title('Total Loaners By Weather Situation')\n",
        "plt.xlabel('Total Counts per Weather')\n",
        "plt.show()"
      ]
    },
    {
      "cell_type": "markdown",
      "metadata": {
        "id": "m1UGxqD4tyBD"
      },
      "source": [
        "### Visualisasi Alasan 4"
      ]
    },
    {
      "cell_type": "code",
      "execution_count": 61,
      "metadata": {
        "colab": {
          "base_uri": "https://localhost:8080/",
          "height": 564
        },
        "id": "quTyq6LYt_5A",
        "outputId": "b10bc386-e748-4785-a845-8a89cf0c2f8a"
      },
      "outputs": [
        {
          "data": {
            "image/png": "[encoded data removed]",
            "text/plain": [
              "<Figure size 1000x600 with 1 Axes>"
            ]
          },
          "metadata": {},
          "output_type": "display_data"
        }
      ],
      "source": [
        "# Mengurutkan data dari jumlah tertinggi ke terendah\n",
        "groupedBySeason.sort_values(ascending=False, inplace=True)\n",
        "\n",
        "fig, ax = plt.subplots(figsize=(10, 6))\n",
        "# Plotting visualisasi\n",
        "plt.bar(x=groupedBySeason.index, height=groupedBySeason.values, color=['green', 'blue', 'blue', 'blue'], width=0.6)\n",
        "plt.title('Total Loaners By Season Type')\n",
        "plt.xlabel('Total Counts per Season Type')\n",
        "plt.show()"
      ]
    },
    {
      "cell_type": "markdown",
      "metadata": {
        "id": "vOsDxwxzuZU5"
      },
      "source": [
        "### Visualisasi Alasan 6"
      ]
    },
    {
      "cell_type": "code",
      "execution_count": 62,
      "metadata": {
        "colab": {
          "base_uri": "https://localhost:8080/",
          "height": 599
        },
        "id": "rYH9IWIBuYmL",
        "outputId": "7798ea3e-ef70-4ca2-b3d8-6471d5053b4f"
      },
      "outputs": [
        {
          "name": "stderr",
          "output_type": "stream",
          "text": [
            "C:\\Users\\legion\\AppData\\Local\\Temp\\ipykernel_3260\\958034875.py:5: UserWarning: You have mixed positional and keyword arguments, some input may be discarded.\n",
            "  ax.legend('Range Times Clustered', labels=['Dini Hari', 'Pagi Hari', 'Siang Hari', 'Sore Hari', 'Malam Hari'])\n"
          ]
        },
        {
          "data": {
            "image/png": "[encoded data removed]",
            "text/plain": [
              "<Figure size 1000x600 with 1 Axes>"
            ]
          },
          "metadata": {},
          "output_type": "display_data"
        }
      ],
      "source": [
        "fig, ax = plt.subplots(figsize=(10, 6))\n",
        "\n",
        "sns.scatterplot(data=hoursDf, x=\"cnt\", y=\"range_times_encoded\", hue=\"range_times_clustered\", ax=ax)\n",
        "\n",
        "ax.legend('Range Times Clustered', labels=['Dini Hari', 'Pagi Hari', 'Siang Hari', 'Sore Hari', 'Malam Hari'])\n",
        "plt.title('Scatter Plot')\n",
        "plt.xlabel('Range Times Encoded')\n",
        "plt.ylabel('Count')\n",
        "plt.show()"
      ]
    },
    {
      "cell_type": "markdown",
      "metadata": {
        "id": "_WeHlCeX8DC2"
      },
      "source": [
        "## Conclusion"
      ]
    },
    {
      "cell_type": "markdown",
      "metadata": {
        "id": "ZTcyR48Y8DC2"
      },
      "source": [
        "- Pertanyaan 1\n",
        "\n",
        "\n",
        "> Dari hasil analisis di atas, dapat disimpulkann bahwa banyak rata-rata peminjam pada antara tahun 2011 dan 2012 mengalami **peningkatan**. Hal itu dapat dilihat pada visualisasi data pertanyaan 1.\n",
        "\n",
        "> Hal ini menandakan bahwa realisasi bisnis yang sudah dilakukan cukup baik dalam menarik perhatian pengguna.\n",
        "\n",
        "\n",
        "- Pertanyaan 2\n",
        "\n",
        "> Dari hasil analisis di atas, terdapat faktor-faktor yang mempengaruhi peminjam rata-rata pada setiap waktunya. Disini saya mengambil contoh range waktu pada setiap bulan dan hari per tahunnya. Mengingat adanya kenaikan dan penurunan frekuensi peminjam di setiap tahunnya. Untuk faktor-faktornya adalah sebagai berikut:\n",
        "\n",
        ">> 1. Range Waktu\n",
        ">>>   Pada range-range waktu tertentu, misalnya pagi dan siang hari, pengguna cenderung melakukan aktifitas di luar ruangan. Sebagian besar membutuhkan alat transportasi untuk menjangkau tempat yang akan dituju. Atau hanya sekedar melakukan olahraga. Maka dari itu, grafik menunjukkan perbedaan banyak pengguna di range-range waktu tertentu. Pada hasil analisis ini, **pagi** dan **siang** hari adalah waktu yang paling banyak jumlah peminjamnya.\n",
        ">> 2. Tipe Hari Berdasarkan Rutinitas\n",
        ">>>   Berhubungan dengan jawaban poin 1, pengguna cenderung menggunakan sepeda sebagai alat transportasi pada saat ingin melakukan perjalanan di suatu tempat. Dengan asumsi bahwa pengguna melakukannya pada saat **hari kerja** atau hari produktif (Working day).\n",
        ">> 3. Cuaca\n",
        ">>>   Keberadaan cuaca ini sangat penting bagi pengguna untuk memutuskan berpergian keluar rumah. Sebab, dengan cuaca yang tepat, maka pengguna tidak perlu repot-repot untuk mempersiapkan jas hujan, payung, ataupun alat lainnya untuk melindungi diri dari basah air hujan ataupun salju. Maka kesimpulannya adalah pengguna akan sering menggunakan sepeda pada cuaca **cerah** (clearly).\n",
        ">> 4. Musim\n",
        ">>>   Berhubungan dengan adanya cuaca di atas (poin 4), maka musimlah yang menentukan kecenderungan cuaca seperti apa pada hari-hari itu. Maka dari itu, dapat disimpulkan bahwa **musim gugur** (fall) adalah musim dengan peminjam sepeda paling banyak. Selain cuaca yang sejuk dan kering, pemandangan indah akan dedaunan yang jatuh dari ranting merupakan pemandangan yang indah bagi pengguna sepeda untuk melakukan perjalanan ataupun olahraga.\n",
        "\n",
        "- Langkah Selanjutnya\n",
        "> Langkah selanjutnya yang dapat dilakukan adalah memberikan akomodasi berupa SDM maupun stok sepeda dengan jumlah yang sekiranya optimal pada titik-titik yang sudah dijelaskan di atas. Agar dapat menarik perhatian peminjam lebih banyak, serta improvisasi strategi bisnis seperti pemberian promo pada saat titik-titik maksimal tadi, dan penawaran-penawaran menarik lainnya"
      ]
    }
  ],
  "metadata": {
    "colab": {
      "provenance": [],
      "toc_visible": true
    },
    "kernelspec": {
      "display_name": "Python 3",
      "language": "python",
      "name": "python3"
    },
    "language_info": {
      "codemirror_mode": {
        "name": "ipython",
        "version": 3
      },
      "file_extension": ".py",
      "mimetype": "text/x-python",
      "name": "python",
      "nbconvert_exporter": "python",
      "pygments_lexer": "ipython3",
      "version": "3.9.18"
    },
    "orig_nbformat": 4,
    "vscode": {
      "interpreter": {
        "hash": "972b3bf27e332e87b5379f2791f6ef9dfc79c71018c370b0d7423235e20fe4d7"
      }
    }
  },
  "nbformat": 4,
  "nbformat_minor": 0
}
